{
 "cells": [
  {
   "cell_type": "code",
   "execution_count": 1,
   "metadata": {},
   "outputs": [],
   "source": [
    "import anndata as ad\n",
    "import networkx as nx\n",
    "import numpy as np\n",
    "import pandas as pd\n",
    "import scglue\n",
    "import seaborn as sns\n",
    "from IPython import display\n",
    "from matplotlib import rcParams\n",
    "from networkx.algorithms.bipartite import biadjacency_matrix\n",
    "from networkx.drawing.nx_agraph import graphviz_layout\n",
    "\n",
    "scglue.plot.set_publication_params()\n",
    "rcParams['figure.figsize'] = (4, 4)\n"
   ]
  },
  {
   "cell_type": "code",
   "execution_count": 2,
   "metadata": {},
   "outputs": [],
   "source": [
    "rna = ad.read_h5ad(\"./data/rna-emb.h5ad\")\n",
    "atac = ad.read_h5ad(\"./data/atac-emb.h5ad\")\n",
    "guidance_hvf = nx.read_graphml(\"./data/guidance-hvf.graphml.gz\")"
   ]
  },
  {
   "cell_type": "code",
   "execution_count": 3,
   "metadata": {},
   "outputs": [],
   "source": [
    "rna.var[\"name\"] = rna.var_names\n",
    "atac.var[\"name\"] = atac.var_names\n",
    "genes = rna.var.query(\"highly_variable\").index\n",
    "peaks = atac.var.query(\"highly_variable\").index"
   ]
  },
  {
   "cell_type": "code",
   "execution_count": 4,
   "metadata": {},
   "outputs": [
    {
     "data": {
      "application/vnd.jupyter.widget-view+json": {
       "model_id": "e7ac4ce21ee847c0be5ea556103341b1",
       "version_major": 2,
       "version_minor": 0
      },
      "text/plain": [
       "regulatory_inference:   0%|          | 0/25565 [00:00<?, ?it/s]"
      ]
     },
     "metadata": {},
     "output_type": "display_data"
    }
   ],
   "source": [
    "features = pd.Index(np.concatenate([rna.var_names, atac.var_names]))\n",
    "feature_embeddings = np.concatenate([rna.varm[\"X_glue\"], atac.varm[\"X_glue\"]])\n",
    "\n",
    "skeleton = guidance_hvf.edge_subgraph(\n",
    "    e for e, attr in dict(guidance_hvf.edges).items()\n",
    "    if attr[\"type\"] == \"fwd\"\n",
    ").copy()\n",
    "\n",
    "reginf = scglue.genomics.regulatory_inference(\n",
    "    features, feature_embeddings,\n",
    "    skeleton=skeleton, random_state=0\n",
    ")\n",
    "\n",
    "gene2peak = reginf.edge_subgraph(\n",
    "    e for e, attr in dict(reginf.edges).items()\n",
    "    if attr[\"qval\"] < 0.05\n",
    ")"
   ]
  },
  {
   "cell_type": "code",
   "execution_count": 5,
   "metadata": {},
   "outputs": [],
   "source": [
    "scglue.genomics.Bed(atac.var).write_bed(\"peaks.bed\", ncols=3)\n",
    "scglue.genomics.write_links(\n",
    "    gene2peak,\n",
    "    scglue.genomics.Bed(rna.var).strand_specific_start_site(),\n",
    "    scglue.genomics.Bed(atac.var),\n",
    "    \"gene2peak.links\", keep_attrs=[\"score\"]\n",
    ")\n",
    "# %conda install -c bioconda pygenometracks"
   ]
  },
  {
   "cell_type": "code",
   "execution_count": 6,
   "metadata": {},
   "outputs": [
    {
     "name": "stdout",
     "output_type": "stream",
     "text": [
      "Overwriting tracks.ini\n"
     ]
    }
   ],
   "source": [
    "%%writefile tracks.ini\n",
    "\n",
    "[Score]\n",
    "file = gene2peak.links\n",
    "title = Score\n",
    "height = 2\n",
    "color = YlGnBu\n",
    "compact_arcs_level = 2\n",
    "use_middle = True\n",
    "file_type = links\n",
    "\n",
    "[ATAC]\n",
    "file = peaks.bed\n",
    "title = ATAC\n",
    "display = collapsed\n",
    "border_color = none\n",
    "labels = False\n",
    "file_type = bed\n",
    "\n",
    "[Genes]\n",
    "file = gencode.vM25.chr_patch_hapl_scaff.annotation.gtf.gz\n",
    "title = Genes\n",
    "prefered_name = gene_name\n",
    "height = 4\n",
    "merge_transcripts = True\n",
    "labels = True\n",
    "max_labels = 100\n",
    "all_labels_inside = True\n",
    "style = UCSC\n",
    "file_type = gtf\n",
    "\n",
    "[x-axis]\n",
    "fontsize = 12"
   ]
  },
  {
   "cell_type": "code",
   "execution_count": 7,
   "metadata": {},
   "outputs": [],
   "source": [
    "loc = rna.var.loc[\"Figla\"]\n",
    "chrom = loc[\"chrom\"]\n",
    "chromLen = loc[\"chromEnd\"] - loc[\"chromStart\"]\n",
    "chromStart = loc[\"chromStart\"] - chromLen\n",
    "chromEnd = loc[\"chromEnd\"] + chromLen\n",
    "# !pyGenomeTracks --tracks tracks.ini \\\n",
    "#     --region {chrom}:{chromStart}-{chromEnd} \\\n",
    "#     --outFileName tracks.png 2> /dev/null\n",
    "!pyGenomeTracks --tracks tracks.ini \\\n",
    "    --region {chrom}:{chromStart}-{chromEnd} \\\n",
    "    --outFileName ./tracks.png 2> ./error\n",
    "# display.Image(\"tracks.png\")"
   ]
  },
  {
   "cell_type": "code",
   "execution_count": 7,
   "metadata": {},
   "outputs": [
    {
     "data": {
      "text/html": [
       "<div>\n",
       "<style scoped>\n",
       "    .dataframe tbody tr th:only-of-type {\n",
       "        vertical-align: middle;\n",
       "    }\n",
       "\n",
       "    .dataframe tbody tr th {\n",
       "        vertical-align: top;\n",
       "    }\n",
       "\n",
       "    .dataframe thead th {\n",
       "        text-align: right;\n",
       "    }\n",
       "</style>\n",
       "<table border=\"1\" class=\"dataframe\">\n",
       "  <thead>\n",
       "    <tr style=\"text-align: right;\">\n",
       "      <th></th>\n",
       "      <th>chrom</th>\n",
       "      <th>chromStart</th>\n",
       "      <th>chromEnd</th>\n",
       "      <th>name</th>\n",
       "      <th>score</th>\n",
       "      <th>strand</th>\n",
       "      <th>thickStart</th>\n",
       "      <th>thickEnd</th>\n",
       "      <th>itemRgb</th>\n",
       "      <th>blockCount</th>\n",
       "      <th>blockSizes</th>\n",
       "      <th>blockStarts</th>\n",
       "    </tr>\n",
       "  </thead>\n",
       "  <tbody>\n",
       "    <tr>\n",
       "      <th>0</th>\n",
       "      <td>GL456210.1</td>\n",
       "      <td>159</td>\n",
       "      <td>171</td>\n",
       "      <td>Zbtb6</td>\n",
       "      <td>.</td>\n",
       "      <td>.</td>\n",
       "      <td>.</td>\n",
       "      <td>.</td>\n",
       "      <td>.</td>\n",
       "      <td>.</td>\n",
       "      <td>.</td>\n",
       "      <td>.</td>\n",
       "    </tr>\n",
       "    <tr>\n",
       "      <th>1</th>\n",
       "      <td>GL456210.1</td>\n",
       "      <td>242</td>\n",
       "      <td>253</td>\n",
       "      <td>Osr2</td>\n",
       "      <td>.</td>\n",
       "      <td>.</td>\n",
       "      <td>.</td>\n",
       "      <td>.</td>\n",
       "      <td>.</td>\n",
       "      <td>.</td>\n",
       "      <td>.</td>\n",
       "      <td>.</td>\n",
       "    </tr>\n",
       "    <tr>\n",
       "      <th>2</th>\n",
       "      <td>GL456210.1</td>\n",
       "      <td>266</td>\n",
       "      <td>278</td>\n",
       "      <td>Pou2f3</td>\n",
       "      <td>.</td>\n",
       "      <td>.</td>\n",
       "      <td>.</td>\n",
       "      <td>.</td>\n",
       "      <td>.</td>\n",
       "      <td>.</td>\n",
       "      <td>.</td>\n",
       "      <td>.</td>\n",
       "    </tr>\n",
       "    <tr>\n",
       "      <th>3</th>\n",
       "      <td>GL456210.1</td>\n",
       "      <td>505</td>\n",
       "      <td>517</td>\n",
       "      <td>Eomes</td>\n",
       "      <td>.</td>\n",
       "      <td>.</td>\n",
       "      <td>.</td>\n",
       "      <td>.</td>\n",
       "      <td>.</td>\n",
       "      <td>.</td>\n",
       "      <td>.</td>\n",
       "      <td>.</td>\n",
       "    </tr>\n",
       "    <tr>\n",
       "      <th>4</th>\n",
       "      <td>GL456210.1</td>\n",
       "      <td>507</td>\n",
       "      <td>516</td>\n",
       "      <td>Tbr1</td>\n",
       "      <td>.</td>\n",
       "      <td>.</td>\n",
       "      <td>.</td>\n",
       "      <td>.</td>\n",
       "      <td>.</td>\n",
       "      <td>.</td>\n",
       "      <td>.</td>\n",
       "      <td>.</td>\n",
       "    </tr>\n",
       "  </tbody>\n",
       "</table>\n",
       "</div>"
      ],
      "text/plain": [
       "        chrom  chromStart  chromEnd    name score strand thickStart thickEnd  \\\n",
       "0  GL456210.1         159       171   Zbtb6     .      .          .        .   \n",
       "1  GL456210.1         242       253    Osr2     .      .          .        .   \n",
       "2  GL456210.1         266       278  Pou2f3     .      .          .        .   \n",
       "3  GL456210.1         505       517   Eomes     .      .          .        .   \n",
       "4  GL456210.1         507       516    Tbr1     .      .          .        .   \n",
       "\n",
       "  itemRgb blockCount blockSizes blockStarts  \n",
       "0       .          .          .           .  \n",
       "1       .          .          .           .  \n",
       "2       .          .          .           .  \n",
       "3       .          .          .           .  \n",
       "4       .          .          .           .  "
      ]
     },
     "execution_count": 7,
     "metadata": {},
     "output_type": "execute_result"
    }
   ],
   "source": [
    "motif_bed = scglue.genomics.read_bed(\"../Multiomics-Integration_1/JASPAR2022-mm10.bed.gz\")\n",
    "motif_bed.head()"
   ]
  },
  {
   "cell_type": "code",
   "execution_count": 8,
   "metadata": {},
   "outputs": [
    {
     "data": {
      "text/plain": [
       "532"
      ]
     },
     "execution_count": 8,
     "metadata": {},
     "output_type": "execute_result"
    }
   ],
   "source": [
    "tfs = pd.Index(motif_bed[\"name\"]).intersection(rna.var_names)\n",
    "tfs.size"
   ]
  },
  {
   "cell_type": "code",
   "execution_count": 9,
   "metadata": {},
   "outputs": [
    {
     "name": "stderr",
     "output_type": "stream",
     "text": [
      "The loom file will lack these fields:\n",
      "{'X_glue', 'PCs', 'X_umap', 'X_pca'}\n",
      "Use write_obsm_varm=True to export multi-dimensional annotations\n"
     ]
    }
   ],
   "source": [
    "rna[:, np.union1d(genes, tfs)].write_loom(\"rna.loom\")\n",
    "np.savetxt(\"tfs.txt\", tfs, fmt=\"%s\")"
   ]
  },
  {
   "cell_type": "code",
   "execution_count": 10,
   "metadata": {},
   "outputs": [
    {
     "name": "stdout",
     "output_type": "stream",
     "text": [
      "\n",
      "2022-10-31 22:47:56,135 - pyscenic.cli.pyscenic - INFO - Loading expression matrix.\n",
      "\n",
      "2022-10-31 22:47:56,401 - pyscenic.cli.pyscenic - INFO - Inferring regulatory networks.\n",
      "Numba: Attempted to fork from a non-main thread, the TBB library may be in an invalid state in the child process.\n",
      "Numba: Attempted to fork from a non-main thread, the TBB library may be in an invalid state in the child process.\n",
      "Numba: Attempted to fork from a non-main thread, the TBB library may be in an invalid state in the child process.\n",
      "Numba: Attempted to fork from a non-main thread, the TBB library may be in an invalid state in the child process.\n",
      "Numba: Attempted to fork from a non-main thread, the TBB library may be in an invalid state in the child process.\n",
      "Numba: Attempted to fork from a non-main thread, the TBB library may be in an invalid state in the child process.\n",
      "Numba: Attempted to fork from a non-main thread, the TBB library may be in an invalid state in the child process.\n",
      "Numba: Attempted to fork from a non-main thread, the TBB library may be in an invalid state in the child process.\n",
      "Numba: Attempted to fork from a non-main thread, the TBB library may be in an invalid state in the child process.\n",
      "Numba: Attempted to fork from a non-main thread, the TBB library may be in an invalid state in the child process.\n",
      "Numba: Attempted to fork from a non-main thread, the TBB library may be in an invalid state in the child process.\n",
      "Numba: Attempted to fork from a non-main thread, the TBB library may be in an invalid state in the child process.\n",
      "Numba: Attempted to fork from a non-main thread, the TBB library may be in an invalid state in the child process.\n",
      "Numba: Attempted to fork from a non-main thread, the TBB library may be in an invalid state in the child process.\n",
      "Numba: Attempted to fork from a non-main thread, the TBB library may be in an invalid state in the child process.\n",
      "Numba: Attempted to fork from a non-main thread, the TBB library may be in an invalid state in the child process.\n",
      "Numba: Attempted to fork from a non-main thread, the TBB library may be in an invalid state in the child process.\n",
      "Numba: Attempted to fork from a non-main thread, the TBB library may be in an invalid state in the child process.\n",
      "Numba: Attempted to fork from a non-main thread, the TBB library may be in an invalid state in the child process.\n",
      "Numba: Attempted to fork from a non-main thread, the TBB library may be in an invalid state in the child process.\n",
      "Numba: Attempted to fork from a non-main thread, the TBB library may be in an invalid state in the child process.\n",
      "preparing dask client\n",
      "parsing input\n",
      "creating dask graph\n",
      "20 partitions\n",
      "computing dask graph\n",
      "not shutting down client, client was created externally\n",
      "finished\n",
      "\u001b[0m\u001b[0m\u001b[0m\u001b[0m\u001b[0m\u001b[0m\u001b[0m\u001b[0m\u001b[0m\u001b[0m\u001b[0m\u001b[0m\u001b[0m\u001b[0m\u001b[0m\u001b[0m\u001b[0m\u001b[0m\u001b[0m\u001b[0m\n",
      "2022-10-31 22:49:36,008 - pyscenic.cli.pyscenic - INFO - Writing results to file.\n",
      "\u001b[0m"
     ]
    }
   ],
   "source": [
    "!pyscenic grn rna.loom tfs.txt \\\n",
    "    -o draft_grn.csv --seed 0 --num_workers 20 \\\n",
    "    --cell_id_attribute cells --gene_attribute genes"
   ]
  },
  {
   "cell_type": "code",
   "execution_count": 11,
   "metadata": {},
   "outputs": [
    {
     "data": {
      "application/vnd.jupyter.widget-view+json": {
       "model_id": "772244def9804f06956c1c3ccb69c9f0",
       "version_major": 2,
       "version_minor": 0
      },
      "text/plain": [
       "window_graph:   0%|          | 0/25488 [00:00<?, ?it/s]"
      ]
     },
     "metadata": {},
     "output_type": "display_data"
    }
   ],
   "source": [
    "peak_bed = scglue.genomics.Bed(atac.var.loc[peaks])\n",
    "peak2tf = scglue.genomics.window_graph(peak_bed, motif_bed, 0, right_sorted=True)\n",
    "peak2tf = peak2tf.edge_subgraph(e for e in peak2tf.edges if e[1] in tfs)"
   ]
  },
  {
   "cell_type": "code",
   "execution_count": 12,
   "metadata": {},
   "outputs": [
    {
     "name": "stderr",
     "output_type": "stream",
     "text": [
      "/opt/miniconda3/envs/glue/lib/python3.8/site-packages/scglue/genomics.py:746: FutureWarning: biadjacency_matrix will return a scipy.sparse array instead of a matrix in NetworkX 3.0\n",
      "  gene2region = biadjacency_matrix(gene2region, genes, regions, dtype=np.int16, weight=None)\n",
      "/opt/miniconda3/envs/glue/lib/python3.8/site-packages/scglue/genomics.py:747: FutureWarning: biadjacency_matrix will return a scipy.sparse array instead of a matrix in NetworkX 3.0\n",
      "  region2tf = biadjacency_matrix(region2tf, regions, tfs, dtype=np.int16, weight=None)\n"
     ]
    },
    {
     "data": {
      "application/vnd.jupyter.widget-view+json": {
       "model_id": "9e8f9539eb82425d8893a13fef17bd39",
       "version_major": 2,
       "version_minor": 0
      },
      "text/plain": [
       "cis_reg_ranking.sampling:   0%|          | 0/2000 [00:00<?, ?it/s]"
      ]
     },
     "metadata": {},
     "output_type": "display_data"
    },
    {
     "data": {
      "application/vnd.jupyter.widget-view+json": {
       "model_id": "c0ea24c05a934dada2a125e80549f33d",
       "version_major": 2,
       "version_minor": 0
      },
      "text/plain": [
       "cis_reg_ranking.mapping:   0%|          | 0/1000 [00:00<?, ?it/s]"
      ]
     },
     "metadata": {},
     "output_type": "display_data"
    },
    {
     "data": {
      "text/html": [
       "<div>\n",
       "<style scoped>\n",
       "    .dataframe tbody tr th:only-of-type {\n",
       "        vertical-align: middle;\n",
       "    }\n",
       "\n",
       "    .dataframe tbody tr th {\n",
       "        vertical-align: top;\n",
       "    }\n",
       "\n",
       "    .dataframe thead th {\n",
       "        text-align: right;\n",
       "    }\n",
       "</style>\n",
       "<table border=\"1\" class=\"dataframe\">\n",
       "  <thead>\n",
       "    <tr style=\"text-align: right;\">\n",
       "      <th></th>\n",
       "      <th>Zbtb6</th>\n",
       "      <th>Osr2</th>\n",
       "      <th>Pou2f3</th>\n",
       "      <th>Eomes</th>\n",
       "      <th>Tbr1</th>\n",
       "    </tr>\n",
       "    <tr>\n",
       "      <th>genes</th>\n",
       "      <th></th>\n",
       "      <th></th>\n",
       "      <th></th>\n",
       "      <th></th>\n",
       "      <th></th>\n",
       "    </tr>\n",
       "  </thead>\n",
       "  <tbody>\n",
       "    <tr>\n",
       "      <th>0610009B22Rik</th>\n",
       "      <td>1193.5</td>\n",
       "      <td>1211.0</td>\n",
       "      <td>1155.5</td>\n",
       "      <td>1115.5</td>\n",
       "      <td>1098.5</td>\n",
       "    </tr>\n",
       "    <tr>\n",
       "      <th>1110002J07Rik</th>\n",
       "      <td>1193.5</td>\n",
       "      <td>1211.0</td>\n",
       "      <td>1155.5</td>\n",
       "      <td>1115.5</td>\n",
       "      <td>1098.5</td>\n",
       "    </tr>\n",
       "    <tr>\n",
       "      <th>1110006O24Rik</th>\n",
       "      <td>1193.5</td>\n",
       "      <td>1211.0</td>\n",
       "      <td>1155.5</td>\n",
       "      <td>1115.5</td>\n",
       "      <td>1098.5</td>\n",
       "    </tr>\n",
       "    <tr>\n",
       "      <th>1110020A21Rik</th>\n",
       "      <td>1193.5</td>\n",
       "      <td>1211.0</td>\n",
       "      <td>1155.5</td>\n",
       "      <td>1115.5</td>\n",
       "      <td>1098.5</td>\n",
       "    </tr>\n",
       "    <tr>\n",
       "      <th>1110060G06Rik</th>\n",
       "      <td>1193.5</td>\n",
       "      <td>1211.0</td>\n",
       "      <td>1155.5</td>\n",
       "      <td>1115.5</td>\n",
       "      <td>1098.5</td>\n",
       "    </tr>\n",
       "  </tbody>\n",
       "</table>\n",
       "</div>"
      ],
      "text/plain": [
       "                Zbtb6    Osr2  Pou2f3   Eomes    Tbr1\n",
       "genes                                                \n",
       "0610009B22Rik  1193.5  1211.0  1155.5  1115.5  1098.5\n",
       "1110002J07Rik  1193.5  1211.0  1155.5  1115.5  1098.5\n",
       "1110006O24Rik  1193.5  1211.0  1155.5  1115.5  1098.5\n",
       "1110020A21Rik  1193.5  1211.0  1155.5  1115.5  1098.5\n",
       "1110060G06Rik  1193.5  1211.0  1155.5  1115.5  1098.5"
      ]
     },
     "execution_count": 12,
     "metadata": {},
     "output_type": "execute_result"
    }
   ],
   "source": [
    "gene2tf_rank_glue = scglue.genomics.cis_regulatory_ranking(\n",
    "    gene2peak, peak2tf, genes, peaks, tfs,\n",
    "    region_lens=atac.var.loc[peaks, \"chromEnd\"] - atac.var.loc[peaks, \"chromStart\"],\n",
    "    random_state=0\n",
    ")\n",
    "gene2tf_rank_glue.iloc[:5, :5]"
   ]
  },
  {
   "cell_type": "code",
   "execution_count": 13,
   "metadata": {},
   "outputs": [
    {
     "name": "stdout",
     "output_type": "stream",
     "text": [
      "<class 'pandas.core.frame.DataFrame'>\n"
     ]
    }
   ],
   "source": [
    "print(type(gene2tf_rank_glue))\n",
    "gene2tf_rank_glue.to_csv(\"./gene2tf_rank_glue.csv\")"
   ]
  },
  {
   "cell_type": "code",
   "execution_count": 14,
   "metadata": {},
   "outputs": [
    {
     "name": "stdout",
     "output_type": "stream",
     "text": [
      "<class 'networkx.classes.multidigraph.MultiDiGraph'>\n"
     ]
    }
   ],
   "source": [
    "print(type(peak2tf))\n",
    "nx.write_gml(peak2tf, './peak2tf.gml')"
   ]
  },
  {
   "cell_type": "markdown",
   "metadata": {},
   "source": []
  }
 ],
 "metadata": {
  "kernelspec": {
   "display_name": "Python 3.8.13 ('glue')",
   "language": "python",
   "name": "python3"
  },
  "language_info": {
   "codemirror_mode": {
    "name": "ipython",
    "version": 3
   },
   "file_extension": ".py",
   "mimetype": "text/x-python",
   "name": "python",
   "nbconvert_exporter": "python",
   "pygments_lexer": "ipython3",
   "version": "3.8.13"
  },
  "orig_nbformat": 4,
  "vscode": {
   "interpreter": {
    "hash": "d843c4792d090f5abb8edbd3fec009d6ce103d3faa922efc701569bcaf29c07b"
   }
  }
 },
 "nbformat": 4,
 "nbformat_minor": 2
}
