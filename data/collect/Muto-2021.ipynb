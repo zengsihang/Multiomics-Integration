{
 "cells": [
  {
   "cell_type": "code",
   "execution_count": null,
   "id": "final-payroll",
   "metadata": {},
   "outputs": [],
   "source": [
    "import anndata\n",
    "import numpy as np\n",
    "import pandas as pd\n",
    "import scanpy as sc\n",
    "import scipy.sparse\n",
    "import sklearn.preprocessing\n",
    "from networkx.algorithms.bipartite import biadjacency_matrix\n",
    "\n",
    "import scglue"
   ]
  },
  {
   "cell_type": "markdown",
   "id": "comic-disney",
   "metadata": {},
   "source": [
    "# scRNA-seq"
   ]
  },
  {
   "cell_type": "markdown",
   "id": "rotary-framing",
   "metadata": {},
   "source": [
    "## Read data"
   ]
  },
  {
   "cell_type": "code",
   "execution_count": null,
   "id": "constitutional-dublin",
   "metadata": {},
   "outputs": [],
   "source": [
    "rna = anndata.read_h5ad(\"../download/Muto-2021/rna.h5ad\")\n",
    "rna"
   ]
  },
  {
   "cell_type": "code",
   "execution_count": null,
   "id": "neural-cloud",
   "metadata": {},
   "outputs": [],
   "source": [
    "count_matrices = [\n",
    "    sc.read_10x_h5(f\"../download/Muto-2021/{file}\")\n",
    "    for file in [\n",
    "        \"GSM4572192_Control1_filtered_feature_bc_matrix.h5\",\n",
    "        \"GSM4572193_Control2_filtered_feature_bc_matrix.h5\",\n",
    "        \"GSM4572194_Control3_filtered_feature_bc_matrix.h5\",\n",
    "        \"GSM4572195_Control4_filtered_feature_bc_matrix.h5\",\n",
    "        \"GSM4572196_Control5_filtered_feature_bc_matrix.h5\"\n",
    "    ]\n",
    "]"
   ]
  },
  {
   "cell_type": "code",
   "execution_count": null,
   "id": "mysterious-victim",
   "metadata": {},
   "outputs": [],
   "source": [
    "for i, count_matrix in enumerate(count_matrices):\n",
    "    count_matrix.obs_names = count_matrix.obs_names.str.split(\"-\").map(lambda x: x[0]) + f\"-{i+1}\"\n",
    "    count_matrix.var_names_make_unique()"
   ]
  },
  {
   "cell_type": "code",
   "execution_count": null,
   "id": "competent-offense",
   "metadata": {},
   "outputs": [],
   "source": [
    "count_matrix = anndata.concat(count_matrices, axis=0, merge=\"same\")\n",
    "rna = anndata.AnnData(\n",
    "    count_matrix[rna.obs_names].X,\n",
    "    obs=rna.obs, var=count_matrix.var,\n",
    "    obsm=rna.obsm, uns=rna.uns\n",
    ")\n",
    "rna.obs.index.name, rna.var.index.name = \"cells\", \"genes\"\n",
    "rna"
   ]
  },
  {
   "cell_type": "markdown",
   "id": "ranging-coupon",
   "metadata": {},
   "source": [
    "## Process meta"
   ]
  },
  {
   "cell_type": "code",
   "execution_count": null,
   "id": "integral-jones",
   "metadata": {},
   "outputs": [],
   "source": [
    "rna.obs[\"domain\"] = \"scRNA-seq\"\n",
    "rna.obs[\"protocol\"] = \"10x RNA\"\n",
    "rna.obs[\"dataset\"] = \"Muto-2021-RNA\""
   ]
  },
  {
   "cell_type": "code",
   "execution_count": null,
   "id": "primary-projector",
   "metadata": {},
   "outputs": [],
   "source": [
    "rna.obs[\"cell_type\"] = rna.obs[\"author_cell_type\"].replace({\n",
    "    \"DCT1\": \"DCT\",\n",
    "    \"DCT2\": \"DCT\",\n",
    "    \"MES\": \"MES_FIB\",\n",
    "    \"FIB\": \"MES_FIB\"\n",
    "})\n",
    "rna.obs[\"batch\"] = rna.obs[\"donor_uuid\"]"
   ]
  },
  {
   "cell_type": "code",
   "execution_count": null,
   "id": "satisfied-romantic",
   "metadata": {},
   "outputs": [],
   "source": [
    "scglue.data.get_gene_annotation(\n",
    "    rna, var_by=\"gene_ids\",\n",
    "    gtf=\"../genome/gencode.v35.chr_patch_hapl_scaff.annotation.gtf.gz\", gtf_by=\"gene_id\",\n",
    "    by_func=scglue.genomics.ens_trim_version\n",
    ")\n",
    "rna.var[\"genome\"] = \"hg38\""
   ]
  },
  {
   "cell_type": "markdown",
   "id": "presidential-heading",
   "metadata": {},
   "source": [
    "# scATAC-seq"
   ]
  },
  {
   "cell_type": "markdown",
   "id": "unexpected-graph",
   "metadata": {},
   "source": [
    "## Read data"
   ]
  },
  {
   "cell_type": "code",
   "execution_count": null,
   "id": "comprehensive-reset",
   "metadata": {},
   "outputs": [],
   "source": [
    "atac = anndata.read_h5ad(\"../download/Muto-2021/atac.h5ad\")\n",
    "atac"
   ]
  },
  {
   "cell_type": "code",
   "execution_count": null,
   "id": "attempted-injury",
   "metadata": {},
   "outputs": [],
   "source": [
    "peak_matrices = [\n",
    "    sc.read_10x_h5(f\"../download/Muto-2021/{file}\", gex_only=False)\n",
    "    for file in [\n",
    "        \"GSM4572187_Control1_filtered_peak_bc_matrix.h5\",\n",
    "        \"GSM4572188_Control2_filtered_peak_bc_matrix.h5\",\n",
    "        \"GSM4572189_Control3_filtered_peak_bc_matrix.h5\",\n",
    "        \"GSM4572190_Control4_filtered_peak_bc_matrix.h5\",\n",
    "        \"GSM4572191_Control5_filtered_peak_bc_matrix.h5\"\n",
    "    ]\n",
    "]"
   ]
  },
  {
   "cell_type": "code",
   "execution_count": null,
   "id": "genuine-submission",
   "metadata": {},
   "outputs": [],
   "source": [
    "for i, peak_matrix in enumerate(peak_matrices):\n",
    "    peak_matrix.obs_names = peak_matrix.obs_names.str.split(\"-\").map(lambda x: x[0]) + f\"-{i+1}\"\n",
    "    split = peak_matrix.var_names.str.split(\"[:-]\")\n",
    "    peak_matrix.var[\"chrom\"] = split.map(lambda x: x[0])\n",
    "    peak_matrix.var[\"chromStart\"] = split.map(lambda x: x[1])\n",
    "    peak_matrix.var[\"chromEnd\"] = split.map(lambda x: x[2])\n",
    "    peak_matrix.var[\"name\"] = peak_matrix.var_names\n",
    "    scglue.genomics.Bed(peak_matrix.var).write_bed(\n",
    "        f\"../download/Muto-2021/peaks_{i}.bed\",\n",
    "        ncols=3\n",
    "    )"
   ]
  },
  {
   "cell_type": "code",
   "execution_count": null,
   "id": "liberal-great",
   "metadata": {},
   "outputs": [],
   "source": [
    "%%bash\n",
    "cat ../download/Muto-2021/peaks_*.bed | sort -k1,1 -k2,2n > ../download/Muto-2021/peaks_all.bed\n",
    "bedtools merge -i ../download/Muto-2021/peaks_all.bed | sort -k1,1 -k2,2n > ../download/Muto-2021/peaks_merged.bed"
   ]
  },
  {
   "cell_type": "code",
   "execution_count": null,
   "id": "bronze-storage",
   "metadata": {},
   "outputs": [],
   "source": [
    "merged_peaks = scglue.genomics.Bed.read_bed(\"../download/Muto-2021/peaks_merged.bed\")\n",
    "merged_peaks[\"name\"] = merged_peaks[\"chrom\"] + \":\" \\\n",
    "    + merged_peaks[\"chromStart\"].astype(str) + \"-\" \\\n",
    "    + merged_peaks[\"chromEnd\"].astype(str)\n",
    "merged_peaks.index = merged_peaks[\"name\"]\n",
    "for i, peak_matrix in enumerate(peak_matrices):\n",
    "    mapping_graph = scglue.genomics.window_graph(\n",
    "        scglue.genomics.Bed(peak_matrix.var), merged_peaks,\n",
    "        window_size=0, right_sorted=True\n",
    "    )\n",
    "    mapping_matrix = biadjacency_matrix(\n",
    "        mapping_graph, peak_matrix.var_names, merged_peaks.index\n",
    "    )\n",
    "    peak_matrix = anndata.AnnData(\n",
    "        peak_matrix.X @ mapping_matrix,\n",
    "        obs=peak_matrix.obs, var=merged_peaks.df.iloc[:, :3]\n",
    "    )\n",
    "    peak_matrices[i] = peak_matrix"
   ]
  },
  {
   "cell_type": "code",
   "execution_count": null,
   "id": "crucial-things",
   "metadata": {},
   "outputs": [],
   "source": [
    "peak_matrix = anndata.concat(peak_matrices, axis=0, merge=\"same\")\n",
    "atac = anndata.AnnData(\n",
    "    peak_matrix[atac.obs_names].X,\n",
    "    obs=atac.obs, var=peak_matrix.var,\n",
    "    obsm=atac.obsm, uns=atac.uns\n",
    ")\n",
    "atac.obs.index.name, atac.var.index.name = \"cells\", \"peaks\"\n",
    "atac"
   ]
  },
  {
   "cell_type": "markdown",
   "id": "least-linux",
   "metadata": {},
   "source": [
    "## Process meta"
   ]
  },
  {
   "cell_type": "code",
   "execution_count": null,
   "id": "twenty-belfast",
   "metadata": {},
   "outputs": [],
   "source": [
    "atac.obs[\"domain\"] = \"scATAC-seq\"\n",
    "atac.obs[\"protocol\"] = \"10x ATAC\"\n",
    "atac.obs[\"dataset\"] = \"Muto-2021-ATAC\""
   ]
  },
  {
   "cell_type": "code",
   "execution_count": null,
   "id": "normal-rental",
   "metadata": {},
   "outputs": [],
   "source": [
    "atac.obs[\"cell_type\"] = atac.obs[\"author_cell_type\"].replace({\n",
    "    \"PCT\": \"PT\",\n",
    "    \"PST\": \"PT\"\n",
    "})\n",
    "atac.obs[\"batch\"] = atac.obs[\"donor_uuid\"]"
   ]
  },
  {
   "cell_type": "code",
   "execution_count": null,
   "id": "ignored-seating",
   "metadata": {},
   "outputs": [],
   "source": [
    "atac.var[\"genome\"] = \"hg38\""
   ]
  },
  {
   "cell_type": "markdown",
   "id": "balanced-liabilities",
   "metadata": {},
   "source": [
    "# FRAGS2RNA"
   ]
  },
  {
   "cell_type": "code",
   "execution_count": null,
   "id": "polish-tourist",
   "metadata": {},
   "outputs": [],
   "source": [
    "frags2rnas = [\n",
    "    scglue.data.bedmap2anndata(f\"../download/Muto-2021/{file}\")\n",
    "    for file in [\n",
    "        \"GSM4572187_Control1_fragments.bedmap.gz\",\n",
    "        \"GSM4572188_Control2_fragments.bedmap.gz\",\n",
    "        \"GSM4572189_Control3_fragments.bedmap.gz\",\n",
    "        \"GSM4572190_Control4_fragments.bedmap.gz\",\n",
    "        \"GSM4572191_Control5_fragments.bedmap.gz\"\n",
    "    ]\n",
    "]"
   ]
  },
  {
   "cell_type": "code",
   "execution_count": null,
   "id": "ordinary-spell",
   "metadata": {},
   "outputs": [],
   "source": [
    "for i, frags2rna in enumerate(frags2rnas):\n",
    "    frags2rna.obs_names = frags2rna.obs_names.str.split(\"-\").map(lambda x: x[0]) + f\"-{i+1}\""
   ]
  },
  {
   "cell_type": "code",
   "execution_count": null,
   "id": "cellular-processing",
   "metadata": {},
   "outputs": [],
   "source": [
    "frags2rna = anndata.concat(frags2rnas, axis=0, merge=\"same\")\n",
    "frags2rna = anndata.AnnData(\n",
    "    frags2rna[atac.obs_names].X,\n",
    "    obs=atac.obs, var=frags2rna.var,\n",
    "    obsm=atac.obsm, uns=atac.uns\n",
    ")\n",
    "frags2rna.obs.index.name, frags2rna.var.index.name = \"cells\", \"genes\"\n",
    "frags2rna"
   ]
  },
  {
   "cell_type": "markdown",
   "id": "baking-sight",
   "metadata": {},
   "source": [
    "# Clean data"
   ]
  },
  {
   "cell_type": "code",
   "execution_count": null,
   "id": "alien-liberal",
   "metadata": {},
   "outputs": [],
   "source": [
    "retained_genes = rna.var.dropna(subset=[\"chrom\", \"chromStart\", \"chromEnd\"]).index\n",
    "rna = rna[:, retained_genes]\n",
    "rna.var = rna.var.astype({\"chromStart\": int, \"chromEnd\": int})\n",
    "rna"
   ]
  },
  {
   "cell_type": "code",
   "execution_count": null,
   "id": "rational-beijing",
   "metadata": {},
   "outputs": [],
   "source": [
    "sc.pp.filter_genes(rna, min_counts=1)\n",
    "rna"
   ]
  },
  {
   "cell_type": "code",
   "execution_count": null,
   "id": "prerequisite-timber",
   "metadata": {},
   "outputs": [],
   "source": [
    "doublets = set()\n",
    "amulets = [\n",
    "    \"GSM4572187_Control1_AMULET\",\n",
    "    \"GSM4572188_Control2_AMULET\",\n",
    "    \"GSM4572189_Control3_AMULET\",\n",
    "    \"GSM4572190_Control4_AMULET\",\n",
    "    \"GSM4572191_Control5_AMULET\"\n",
    "]\n",
    "for i, amulet in enumerate(amulets):\n",
    "    doublets = doublets.union(pd.read_table(\n",
    "        f\"../download/Muto-2021/{amulet}/MultipletProbabilities.txt\"\n",
    "    ).query(\"`p-value` < 0.05\")[\"barcode\"].str.replace(\"-1\", f\"-{i+1}\"))\n",
    "retained_cells = atac.obs_names[[item not in doublets for item in atac.obs_names]]\n",
    "atac = atac[retained_cells, :]\n",
    "atac"
   ]
  },
  {
   "cell_type": "code",
   "execution_count": null,
   "id": "south-master",
   "metadata": {},
   "outputs": [],
   "source": [
    "blacklist_overlap = scglue.genomics.window_graph(\n",
    "    scglue.genomics.Bed(atac.var.assign(name=atac.var_names)),\n",
    "    \"../genome/Blacklist/lists/hg38-blacklist.v2.bed.gz\",\n",
    "    window_size=0\n",
    ")"
   ]
  },
  {
   "cell_type": "code",
   "execution_count": null,
   "id": "recorded-shade",
   "metadata": {},
   "outputs": [],
   "source": [
    "retained_peaks = np.asarray(biadjacency_matrix(\n",
    "    blacklist_overlap, atac.var_names\n",
    ").sum(axis=1)).ravel() == 0\n",
    "atac = atac[:, retained_peaks]\n",
    "atac.var = atac.var.astype({\"chromStart\": int, \"chromEnd\": int})\n",
    "atac"
   ]
  },
  {
   "cell_type": "code",
   "execution_count": null,
   "id": "residential-tutorial",
   "metadata": {},
   "outputs": [],
   "source": [
    "sc.pp.filter_genes(atac, min_counts=1)\n",
    "atac"
   ]
  },
  {
   "cell_type": "code",
   "execution_count": null,
   "id": "residential-feelings",
   "metadata": {},
   "outputs": [],
   "source": [
    "ohe = sklearn.preprocessing.OneHotEncoder()\n",
    "donor_ohe = ohe.fit_transform(atac.obs[[\"batch\"]])\n",
    "atac_per_donor = donor_ohe.T @ atac.X\n",
    "atac_n_donor = (atac_per_donor > 0).sum(axis=0).A1\n",
    "atac = atac[:, atac_n_donor == atac_per_donor.shape[0]].copy()\n",
    "atac.shape"
   ]
  },
  {
   "cell_type": "code",
   "execution_count": null,
   "id": "developmental-gallery",
   "metadata": {},
   "outputs": [],
   "source": [
    "frags2rna = frags2rna[retained_cells, :]\n",
    "frags2rna"
   ]
  },
  {
   "cell_type": "code",
   "execution_count": null,
   "id": "satisfied-finish",
   "metadata": {},
   "outputs": [],
   "source": [
    "missing_vars = list(set(rna.var_names).difference(frags2rna.var_names))\n",
    "frags2rna = anndata.concat([\n",
    "    frags2rna, anndata.AnnData(\n",
    "        X=scipy.sparse.csr_matrix((frags2rna.shape[0], len(missing_vars))),\n",
    "        obs=pd.DataFrame(index=frags2rna.obs_names), var=pd.DataFrame(index=missing_vars)\n",
    "    )\n",
    "], axis=1, merge=\"first\")\n",
    "frags2rna = frags2rna[:, rna.var_names].copy()  # Keep the same features as RNA\n",
    "frags2rna"
   ]
  },
  {
   "cell_type": "markdown",
   "id": "waiting-lawsuit",
   "metadata": {},
   "source": [
    "# Process data"
   ]
  },
  {
   "cell_type": "code",
   "execution_count": null,
   "id": "drawn-opera",
   "metadata": {},
   "outputs": [],
   "source": [
    "sc.pp.highly_variable_genes(rna, n_top_genes=2000, flavor=\"seurat_v3\", batch_key=\"batch\")\n",
    "rna.var.highly_variable.sum()"
   ]
  },
  {
   "cell_type": "markdown",
   "id": "serial-trinidad",
   "metadata": {},
   "source": [
    "# Save data"
   ]
  },
  {
   "cell_type": "code",
   "execution_count": null,
   "id": "clear-dealer",
   "metadata": {
    "tags": []
   },
   "outputs": [],
   "source": [
    "rna.write(\"../dataset/Muto-2021-RNA.h5ad\", compression=\"gzip\")\n",
    "atac.write(\"../dataset/Muto-2021-ATAC.h5ad\", compression=\"gzip\")\n",
    "frags2rna.write(\"../dataset/Muto-2021-FRAGS2RNA.h5ad\", compression=\"gzip\")"
   ]
  }
 ],
 "metadata": {
  "kernelspec": {
   "display_name": "Python 3",
   "language": "python",
   "name": "python3"
  },
  "language_info": {
   "codemirror_mode": {
    "name": "ipython",
    "version": 3
   },
   "file_extension": ".py",
   "mimetype": "text/x-python",
   "name": "python",
   "nbconvert_exporter": "python",
   "pygments_lexer": "ipython3",
   "version": "3.8.5"
  },
  "toc-autonumbering": true
 },
 "nbformat": 4,
 "nbformat_minor": 5
}
