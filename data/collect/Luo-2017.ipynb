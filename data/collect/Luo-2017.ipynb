{
 "cells": [
  {
   "cell_type": "code",
   "execution_count": null,
   "metadata": {},
   "outputs": [],
   "source": [
    "import numpy as np\n",
    "import pandas as pd\n",
    "import scipy.sparse\n",
    "import anndata\n",
    "\n",
    "import scglue"
   ]
  },
  {
   "cell_type": "markdown",
   "metadata": {},
   "source": [
    "# Read data"
   ]
  },
  {
   "cell_type": "markdown",
   "metadata": {},
   "source": [
    "## mCH"
   ]
  },
  {
   "cell_type": "code",
   "execution_count": null,
   "metadata": {},
   "outputs": [],
   "source": [
    "melted_df = pd.read_table(\"../download/Luo-2017/data/gene_level_mouse.txt.gz\").dropna()\n",
    "obs_names = pd.Index(set(melted_df[\"samp\"]))\n",
    "var_names = pd.Index(set(melted_df[\"geneID\"]))"
   ]
  },
  {
   "cell_type": "code",
   "execution_count": null,
   "metadata": {},
   "outputs": [],
   "source": [
    "ridx = obs_names.get_indexer(melted_df[\"samp\"])\n",
    "cidx = var_names.get_indexer(melted_df[\"geneID\"])\n",
    "mCH = scipy.sparse.csr_matrix(\n",
    "    (melted_df[\"mCH\"], (ridx, cidx))\n",
    ").astype(np.float32).toarray()\n",
    "mCH_norm = scipy.sparse.csr_matrix(\n",
    "    (melted_df[\"mCH_norm\"], (ridx, cidx))\n",
    ").astype(np.float32).toarray()"
   ]
  },
  {
   "cell_type": "markdown",
   "metadata": {},
   "source": [
    "## mCG"
   ]
  },
  {
   "cell_type": "code",
   "execution_count": null,
   "metadata": {
    "scrolled": true,
    "tags": []
   },
   "outputs": [],
   "source": [
    "mCG = pd.read_table(\n",
    "    \"../download/Luo-2017/data/mCG_genebody_mouse.txt.gz\",\n",
    "    index_col=0, dtype={\"chr\": str}\n",
    ").drop(columns=[\"name\", \"chr\", \"start\", \"end\", \"strand\"])"
   ]
  },
  {
   "cell_type": "code",
   "execution_count": null,
   "metadata": {},
   "outputs": [],
   "source": [
    "mCG_mc = mCG.loc[var_names, obs_names + \"_mc\"].to_numpy().T.astype(np.float32)\n",
    "mCG_c = mCG.loc[var_names, obs_names + \"_c\"].to_numpy().T.astype(np.float32)\n",
    "mCG = mCG_mc / mCG_c\n",
    "mCG[np.isnan(mCG)] = 0.0"
   ]
  },
  {
   "cell_type": "code",
   "execution_count": null,
   "metadata": {},
   "outputs": [],
   "source": [
    "mCG_global = mCG_mc.sum(axis=1, keepdims=True) / mCG_c.sum(axis=1, keepdims=True)\n",
    "mCG_norm = mCG / mCG_global"
   ]
  },
  {
   "cell_type": "markdown",
   "metadata": {},
   "source": [
    "## Meta data"
   ]
  },
  {
   "cell_type": "code",
   "execution_count": null,
   "metadata": {},
   "outputs": [],
   "source": [
    "used_obs_names = [\n",
    "    obs_name for obs_name in obs_names\n",
    "    if obs_name.startswith(\"Pool_\") or obs_name.startswith(\"nuclei\")\n",
    "]\n",
    "used_ridx = obs_names.get_indexer(used_obs_names)\n",
    "mCH = mCH[used_ridx, :]\n",
    "mCH_norm = mCH_norm[used_ridx, :]\n",
    "mCG = mCG[used_ridx, :]\n",
    "mCG_norm = mCG_norm[used_ridx, :]"
   ]
  },
  {
   "cell_type": "code",
   "execution_count": null,
   "metadata": {},
   "outputs": [],
   "source": [
    "X = np.concatenate([mCH, mCG], axis=1)\n",
    "X_norm = np.concatenate([mCH_norm, mCG_norm], axis=1)"
   ]
  },
  {
   "cell_type": "code",
   "execution_count": null,
   "metadata": {},
   "outputs": [],
   "source": [
    "obs = pd.read_csv(\"../download/Luo-2017/gene_level_mouse_meta.csv\", index_col=0)\n",
    "obs = obs.loc[used_obs_names, :]\n",
    "obs.head()"
   ]
  },
  {
   "cell_type": "code",
   "execution_count": null,
   "metadata": {},
   "outputs": [],
   "source": [
    "var = melted_df.loc[:, [\"geneID\", \"geneName\"]].drop_duplicates()\n",
    "var = var.set_index(\"geneID\").loc[var_names.tolist(), :].reset_index().set_index(\"geneName\")\n",
    "var.set_index(anndata.utils.make_index_unique(var.index), inplace=True)\n",
    "var = pd.concat([var.set_index(var.index + \"_mCH\"), var.set_index(var.index + \"_mCG\")])\n",
    "var.head()"
   ]
  },
  {
   "cell_type": "code",
   "execution_count": null,
   "metadata": {},
   "outputs": [],
   "source": [
    "adata = anndata.AnnData(X=X, obs=obs, var=var, layers={\"norm\": X_norm})\n",
    "adata.obs.index.name, adata.var.index.name = \"cells\", \"genes\"\n",
    "adata"
   ]
  },
  {
   "cell_type": "markdown",
   "metadata": {},
   "source": [
    "# Process meta"
   ]
  },
  {
   "cell_type": "code",
   "execution_count": null,
   "metadata": {},
   "outputs": [],
   "source": [
    "adata.obs[\"domain\"] = \"snmC-seq\"\n",
    "adata.obs[\"protocol\"] = \"snmC-seq\"\n",
    "adata.obs[\"dataset\"] = \"Luo-2017\""
   ]
  },
  {
   "cell_type": "code",
   "execution_count": null,
   "metadata": {},
   "outputs": [],
   "source": [
    "adata.var_names_make_unique()\n",
    "scglue.data.get_gene_annotation(\n",
    "    adata, var_by=\"geneID\",\n",
    "    gtf=\"../genome/gencode.vM10.chr_patch_hapl_scaff.annotation.gtf.gz\",\n",
    "    gtf_by=\"gene_id\", by_func=scglue.genomics.ens_trim_version\n",
    ")\n",
    "adata.var[\"genome\"] = \"mm10\"\n",
    "adata.var.head()"
   ]
  },
  {
   "cell_type": "markdown",
   "metadata": {},
   "source": [
    "# Clean data"
   ]
  },
  {
   "cell_type": "code",
   "execution_count": null,
   "metadata": {},
   "outputs": [],
   "source": [
    "retained_genes = adata.var.dropna(subset=[\"chrom\", \"chromStart\", \"chromEnd\"]).index\n",
    "adata = adata[:, retained_genes]\n",
    "adata.var = adata.var.astype({\"chromStart\": int, \"chromEnd\": int})\n",
    "adata"
   ]
  },
  {
   "cell_type": "code",
   "execution_count": null,
   "metadata": {},
   "outputs": [],
   "source": [
    "retained_genes = adata.var_names[adata.X.sum(axis=0) != 0]\n",
    "adata = adata[:, retained_genes].copy()\n",
    "adata"
   ]
  },
  {
   "cell_type": "markdown",
   "metadata": {},
   "source": [
    "# Save data"
   ]
  },
  {
   "cell_type": "code",
   "execution_count": null,
   "metadata": {},
   "outputs": [],
   "source": [
    "adata.write_h5ad(\"../dataset/Luo-2017.h5ad\", compression=\"gzip\")"
   ]
  }
 ],
 "metadata": {
  "kernelspec": {
   "display_name": "Python 3",
   "language": "python",
   "name": "python3"
  },
  "language_info": {
   "codemirror_mode": {
    "name": "ipython",
    "version": 3
   },
   "file_extension": ".py",
   "mimetype": "text/x-python",
   "name": "python",
   "nbconvert_exporter": "python",
   "pygments_lexer": "ipython3",
   "version": "3.8.5"
  },
  "toc-autonumbering": true
 },
 "nbformat": 4,
 "nbformat_minor": 4
}
