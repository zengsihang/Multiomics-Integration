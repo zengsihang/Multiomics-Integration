{
 "cells": [
  {
   "cell_type": "code",
   "execution_count": null,
   "id": "environmental-stock",
   "metadata": {},
   "outputs": [],
   "source": [
    "import re\n",
    "import anndata\n",
    "import numpy as np\n",
    "import pandas as pd\n",
    "import scanpy as sc\n",
    "\n",
    "import scglue"
   ]
  },
  {
   "cell_type": "markdown",
   "id": "respected-mongolia",
   "metadata": {},
   "source": [
    "# Read data"
   ]
  },
  {
   "cell_type": "code",
   "execution_count": null,
   "id": "ideal-bracket",
   "metadata": {},
   "outputs": [],
   "source": [
    "adata = anndata.read_loom(\n",
    "    \"../download/Cao-2020/GSE156793_S3_gene_count.loom\",\n",
    "    sparse=True, obs_names=\"obs_names\", var_names=\"var_names\"\n",
    ")\n",
    "adata.obs.index.name, adata.var.index.name = \"cells\", \"genes\"\n",
    "adata"
   ]
  },
  {
   "cell_type": "code",
   "execution_count": null,
   "id": "practical-sterling",
   "metadata": {},
   "outputs": [],
   "source": [
    "obs_meta = pd.read_csv(\"../download/Cao-2020/GSE156793_S1_metadata_cells.txt.gz\", index_col=0)\n",
    "obs_meta.head()"
   ]
  },
  {
   "cell_type": "markdown",
   "id": "interpreted-disposition",
   "metadata": {},
   "source": [
    "# Process meta"
   ]
  },
  {
   "cell_type": "code",
   "execution_count": null,
   "id": "provincial-filename",
   "metadata": {},
   "outputs": [],
   "source": [
    "pattern = re.compile(r\"(-[0-9])+$\")\n",
    "adata.obs.index = np.vectorize(lambda x: pattern.sub(\"\", x))(adata.obs.index)\n",
    "adata.obs.index.name = \"cells\"  # Lost from reassignment\n",
    "assert np.all(adata.obs.index == obs_meta.index)"
   ]
  },
  {
   "cell_type": "code",
   "execution_count": null,
   "id": "fabulous-statistics",
   "metadata": {},
   "outputs": [],
   "source": [
    "for col in sorted(set(obs_meta.columns).difference(adata.obs.columns)):\n",
    "    adata.obs[col] = obs_meta[col]"
   ]
  },
  {
   "cell_type": "code",
   "execution_count": null,
   "id": "fitted-evans",
   "metadata": {},
   "outputs": [],
   "source": [
    "adata.obs[\"domain\"] = \"scRNA-seq\"\n",
    "adata.obs[\"protocol\"] = \"sci-RNA-seq3\"\n",
    "adata.obs[\"dataset\"] = \"Cao-2020\"\n",
    "adata.obs[\"cell_type\"] = adata.obs[\"Main_cluster_name\"]\n",
    "adata.obs.head()"
   ]
  },
  {
   "cell_type": "code",
   "execution_count": null,
   "id": "provincial-france",
   "metadata": {},
   "outputs": [],
   "source": [
    "adata.var.pop(\"gene_type\")  # Avoid duplicated columns\n",
    "scglue.data.get_gene_annotation(\n",
    "    adata, var_by=\"gene_id\",\n",
    "    gtf=\"../genome/gencode.v19.chr_patch_hapl_scaff.annotation.gtf.gz\",\n",
    "    gtf_by=\"gene_id\"\n",
    ")\n",
    "adata.var[\"genome\"] = \"hg19\"\n",
    "adata.var.head()"
   ]
  },
  {
   "cell_type": "markdown",
   "id": "headed-whole",
   "metadata": {},
   "source": [
    "# Clean data"
   ]
  },
  {
   "cell_type": "code",
   "execution_count": null,
   "id": "junior-holly",
   "metadata": {},
   "outputs": [],
   "source": [
    "assert adata.var.dropna(subset=[\"chrom\", \"chromStart\", \"chromEnd\"]).shape[0] == adata.var.shape[0]\n",
    "adata.var = adata.var.astype({\"chromStart\": int, \"chromEnd\": int})\n",
    "adata"
   ]
  },
  {
   "cell_type": "code",
   "execution_count": null,
   "id": "advance-nurse",
   "metadata": {},
   "outputs": [],
   "source": [
    "sc.pp.filter_genes(adata, min_counts=1)\n",
    "adata"
   ]
  },
  {
   "cell_type": "markdown",
   "id": "empty-router",
   "metadata": {},
   "source": [
    "# Process data"
   ]
  },
  {
   "cell_type": "code",
   "execution_count": null,
   "id": "inclusive-studio",
   "metadata": {},
   "outputs": [],
   "source": [
    "sc.pp.highly_variable_genes(adata, n_top_genes=4000, flavor=\"seurat_v3\")\n",
    "adata.var.highly_variable.sum()"
   ]
  },
  {
   "cell_type": "markdown",
   "id": "returning-diameter",
   "metadata": {},
   "source": [
    "# Save data"
   ]
  },
  {
   "cell_type": "code",
   "execution_count": null,
   "id": "considerable-mouth",
   "metadata": {},
   "outputs": [],
   "source": [
    "adata.write_h5ad(\"../dataset/Cao-2020.h5ad\", compression=\"gzip\")"
   ]
  }
 ],
 "metadata": {
  "kernelspec": {
   "display_name": "Python 3",
   "language": "python",
   "name": "python3"
  },
  "language_info": {
   "codemirror_mode": {
    "name": "ipython",
    "version": 3
   },
   "file_extension": ".py",
   "mimetype": "text/x-python",
   "name": "python",
   "nbconvert_exporter": "python",
   "pygments_lexer": "ipython3",
   "version": "3.8.5"
  }
 },
 "nbformat": 4,
 "nbformat_minor": 5
}
