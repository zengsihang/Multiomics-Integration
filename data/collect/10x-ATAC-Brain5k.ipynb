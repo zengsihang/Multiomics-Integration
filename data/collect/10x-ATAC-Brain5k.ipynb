{
 "cells": [
  {
   "cell_type": "code",
   "execution_count": null,
   "metadata": {},
   "outputs": [],
   "source": [
    "import numpy as np\n",
    "import pandas as pd\n",
    "import networkx as nx\n",
    "import scanpy as sc\n",
    "from networkx.algorithms.bipartite import biadjacency_matrix\n",
    "\n",
    "import scglue"
   ]
  },
  {
   "cell_type": "markdown",
   "metadata": {},
   "source": [
    "# Read data"
   ]
  },
  {
   "cell_type": "code",
   "execution_count": null,
   "metadata": {},
   "outputs": [],
   "source": [
    "adata = sc.read_10x_h5(\"../download/10x-ATAC-Brain5k/atac_v1_adult_brain_fresh_5k_filtered_peak_bc_matrix.h5\", gex_only=False)\n",
    "adata.obs.index.name, adata.var.index.name = \"cells\", \"peaks\"\n",
    "adata"
   ]
  },
  {
   "cell_type": "code",
   "execution_count": null,
   "metadata": {},
   "outputs": [],
   "source": [
    "obs_meta = pd.read_csv(\n",
    "    \"../download/10x-ATAC-Brain5k/signac_idents.csv\", index_col=0\n",
    ").rename(\n",
    "    columns={\"Idents\": \"cell_type\"}\n",
    ").query(\n",
    "    \"cell_type not in ['Astro', 'Endo', 'Macrophage', 'Oligo', 'Meis2', 'VLMC']\"\n",
    ")"
   ]
  },
  {
   "cell_type": "markdown",
   "metadata": {},
   "source": [
    "# Process meta"
   ]
  },
  {
   "cell_type": "code",
   "execution_count": null,
   "metadata": {},
   "outputs": [],
   "source": [
    "adata.obs = adata.obs.join(obs_meta)\n",
    "adata.obs[\"domain\"] = \"scATAC-seq\"\n",
    "adata.obs[\"protocol\"] = \"10x ATAC\"\n",
    "adata.obs[\"dataset\"] = \"10x-ATAC-Brain5k\"\n",
    "adata.obs.head()"
   ]
  },
  {
   "cell_type": "code",
   "execution_count": null,
   "metadata": {},
   "outputs": [],
   "source": [
    "adata.var[\"chrom\"] = np.vectorize(lambda x: x.split(\":\")[0])(adata.var[\"gene_ids\"])\n",
    "adata.var[\"chromStart\"] = np.vectorize(lambda x: int(x.split(\":\")[1].split(\"-\")[0]))(adata.var[\"gene_ids\"])\n",
    "adata.var[\"chromEnd\"] = np.vectorize(lambda x: int(x.split(\"-\")[1]))(adata.var[\"gene_ids\"])\n",
    "del adata.var[\"gene_ids\"]\n",
    "adata.var.head()"
   ]
  },
  {
   "cell_type": "markdown",
   "metadata": {},
   "source": [
    "# Clean data"
   ]
  },
  {
   "cell_type": "code",
   "execution_count": null,
   "metadata": {},
   "outputs": [],
   "source": [
    "retained_cells = adata.obs.dropna().index\n",
    "adata = adata[retained_cells, :]\n",
    "adata"
   ]
  },
  {
   "cell_type": "code",
   "execution_count": null,
   "metadata": {},
   "outputs": [],
   "source": [
    "blacklist_overlap = scglue.genomics.window_graph(\n",
    "    scglue.genomics.Bed(adata.var.assign(name=adata.var_names)),\n",
    "    \"../genome/Blacklist/lists/mm10-blacklist.v2.bed.gz\",\n",
    "    window_size=0\n",
    ")"
   ]
  },
  {
   "cell_type": "code",
   "execution_count": null,
   "metadata": {},
   "outputs": [],
   "source": [
    "retained_peaks = np.asarray(biadjacency_matrix(\n",
    "    blacklist_overlap, adata.var_names\n",
    ").sum(axis=1)).ravel() == 0\n",
    "adata = adata[:, retained_peaks]\n",
    "adata.var = adata.var.astype({\"chromStart\": int, \"chromEnd\": int})\n",
    "adata"
   ]
  },
  {
   "cell_type": "code",
   "execution_count": null,
   "metadata": {},
   "outputs": [],
   "source": [
    "sc.pp.filter_genes(adata, min_counts=1)\n",
    "adata"
   ]
  },
  {
   "cell_type": "markdown",
   "metadata": {},
   "source": [
    "# Save data"
   ]
  },
  {
   "cell_type": "code",
   "execution_count": null,
   "metadata": {},
   "outputs": [],
   "source": [
    "adata.write_h5ad(\"../dataset/10x-ATAC-Brain5k.h5ad\", compression=\"gzip\")"
   ]
  }
 ],
 "metadata": {
  "kernelspec": {
   "display_name": "Python 3",
   "language": "python",
   "name": "python3"
  },
  "language_info": {
   "codemirror_mode": {
    "name": "ipython",
    "version": 3
   },
   "file_extension": ".py",
   "mimetype": "text/x-python",
   "name": "python",
   "nbconvert_exporter": "python",
   "pygments_lexer": "ipython3",
   "version": "3.8.5"
  }
 },
 "nbformat": 4,
 "nbformat_minor": 4
}
