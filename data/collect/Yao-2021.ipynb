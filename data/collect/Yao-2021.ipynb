{
 "cells": [
  {
   "cell_type": "code",
   "execution_count": null,
   "id": "certified-flesh",
   "metadata": {},
   "outputs": [],
   "source": [
    "import gzip\n",
    "import pickle\n",
    "\n",
    "import anndata\n",
    "import numpy as np\n",
    "import pandas as pd\n",
    "import scanpy as sc\n",
    "import scipy.sparse\n",
    "import sklearn.preprocessing\n",
    "from networkx.algorithms.bipartite import biadjacency_matrix\n",
    "from ALLCools.mcds import MCDS\n",
    "\n",
    "import scglue"
   ]
  },
  {
   "cell_type": "code",
   "execution_count": null,
   "id": "amino-hotel",
   "metadata": {},
   "outputs": [],
   "source": [
    "bag = \"../download/Yao-2021/MOp_MiniAtlas_2020_bdbag_2021_04_28/data\""
   ]
  },
  {
   "cell_type": "markdown",
   "id": "running-cocktail",
   "metadata": {},
   "source": [
    "# scRNA-seq"
   ]
  },
  {
   "cell_type": "markdown",
   "id": "removed-system",
   "metadata": {},
   "source": [
    "## Read data"
   ]
  },
  {
   "cell_type": "code",
   "execution_count": null,
   "id": "reduced-radius",
   "metadata": {},
   "outputs": [],
   "source": [
    "subbag = \"Analysis_10X_cells_v3_AIBS/data/10X_cells_v3_AIBS\""
   ]
  },
  {
   "cell_type": "code",
   "execution_count": null,
   "id": "continent-basin",
   "metadata": {},
   "outputs": [],
   "source": [
    "rna = sc.read_10x_h5(f\"{bag}/{subbag}/umi_counts.h5\")\n",
    "rna.var_names_make_unique()\n",
    "rna.obs.index.name, rna.var.index.name = \"cells\", \"genes\"\n",
    "rna"
   ]
  },
  {
   "cell_type": "code",
   "execution_count": null,
   "id": "crazy-teach",
   "metadata": {},
   "outputs": [],
   "source": [
    "sample_metadata = pd.read_csv(f\"{bag}/{subbag}/sample_metadata.csv\", index_col=0)\n",
    "cluster_membership = pd.read_csv(f\"{bag}/{subbag}/cluster.membership.csv\", index_col=0)\n",
    "cluster_annotation = pd.read_csv(f\"{bag}/{subbag}/cluster.annotation.csv\", index_col=0)"
   ]
  },
  {
   "cell_type": "code",
   "execution_count": null,
   "id": "instant-puppy",
   "metadata": {},
   "outputs": [],
   "source": [
    "sample_metadata.index = sample_metadata.index.str.split(\"L8TX\").map(lambda x: x[0])\n",
    "cluster_membership.index = cluster_membership.index.str.split(\"L8TX\").map(lambda x: x[0])\n",
    "for annotation in cluster_annotation.columns:\n",
    "    cluster_membership[annotation] = cluster_membership[\"x\"].map(cluster_annotation[annotation].to_dict())"
   ]
  },
  {
   "cell_type": "code",
   "execution_count": null,
   "id": "psychological-joyce",
   "metadata": {},
   "outputs": [],
   "source": [
    "s = set(rna.obs_names)\n",
    "assert all(item in s for item in cluster_membership.index)\n",
    "s = set(sample_metadata.index)\n",
    "assert all(item in s for item in cluster_membership.index)"
   ]
  },
  {
   "cell_type": "code",
   "execution_count": null,
   "id": "lightweight-greenhouse",
   "metadata": {},
   "outputs": [],
   "source": [
    "rna = rna[cluster_membership.index]\n",
    "rna.obs = rna.obs.join(cluster_membership).join(sample_metadata)\n",
    "rna"
   ]
  },
  {
   "cell_type": "markdown",
   "id": "limited-angel",
   "metadata": {},
   "source": [
    "## Process meta"
   ]
  },
  {
   "cell_type": "code",
   "execution_count": null,
   "id": "alone-roman",
   "metadata": {},
   "outputs": [],
   "source": [
    "rna.obs[\"domain\"] = \"scRNA-seq\"\n",
    "rna.obs[\"protocol\"] = \"10x RNA\"\n",
    "rna.obs[\"dataset\"] = \"Yao-2021-RNA\""
   ]
  },
  {
   "cell_type": "code",
   "execution_count": null,
   "id": "paperback-raising",
   "metadata": {},
   "outputs": [],
   "source": [
    "rna.obs[\"cell_type\"] = rna.obs[\"subclass_label\"].replace({\n",
    "    \"L5 IT\": \"L4/5 IT\", \"L5/6 NP\": \"NP\",\n",
    "    \"L6 IT Car3\": \"L6 IT\", \"L6b\": \"L6 CT\"\n",
    "})\n",
    "rna.obs[\"Donor\"] = rna.obs[\"Donor\"].astype(\"category\")"
   ]
  },
  {
   "cell_type": "code",
   "execution_count": null,
   "id": "decreased-reliance",
   "metadata": {},
   "outputs": [],
   "source": [
    "scglue.data.get_gene_annotation(\n",
    "    rna, var_by=\"gene_ids\",\n",
    "    gtf=\"../genome/gencode.vM25.chr_patch_hapl_scaff.annotation.gtf.gz\", gtf_by=\"gene_id\",\n",
    "    by_func=scglue.genomics.ens_trim_version\n",
    ")\n",
    "rna.var[\"genome\"] = \"mm10\""
   ]
  },
  {
   "cell_type": "markdown",
   "id": "stupid-zoning",
   "metadata": {},
   "source": [
    "# scATAC-seq"
   ]
  },
  {
   "cell_type": "markdown",
   "id": "elect-relay",
   "metadata": {},
   "source": [
    "## Read data"
   ]
  },
  {
   "cell_type": "code",
   "execution_count": null,
   "id": "intermediate-shuttle",
   "metadata": {},
   "outputs": [],
   "source": [
    "subbag = \"Analysis_EckerRen_Mouse_MOp_methylation_ATAC/data/EckerRen_Mouse_MOp_methylation_ATAC\"\n",
    "samples = [\n",
    "    \"CEMBA171206_3C\", \"CEMBA171207_3C\", \"CEMBA171212_4B\",\n",
    "    \"CEMBA171213_4B\", \"CEMBA180104_4B\", \"CEMBA180409_2C\",\n",
    "    \"CEMBA180410_2C\", \"CEMBA180612_5D\", \"CEMBA180618_5D\"\n",
    "]"
   ]
  },
  {
   "cell_type": "code",
   "execution_count": null,
   "id": "freelance-permit",
   "metadata": {},
   "outputs": [],
   "source": [
    "peak_matrices = []\n",
    "for sample in samples:\n",
    "    with gzip.open(f\"{bag}/{subbag}/dataset/ATAC/{sample}.pkl.gz\") as f:\n",
    "        d = pickle.load(f)\n",
    "        peak_matrices.append(anndata.AnnData(\n",
    "            X=d[\"X\"],\n",
    "            obs=pd.DataFrame({\"sample\": sample}, index=d[\"obs_names\"]),\n",
    "            var=pd.DataFrame(index=d[\"var_names\"])\n",
    "        ))"
   ]
  },
  {
   "cell_type": "code",
   "execution_count": null,
   "id": "excited-governor",
   "metadata": {},
   "outputs": [],
   "source": [
    "for i, peak_matrix in enumerate(peak_matrices):\n",
    "    peak_matrix.obs_names = peak_matrix.obs[\"sample\"] + \"_\" + peak_matrix.obs_names\n",
    "    split = peak_matrix.var_names.str.split(\"[:-]\")\n",
    "    peak_matrix.var[\"chrom\"] = split.map(lambda x: x[0])\n",
    "    peak_matrix.var[\"chromStart\"] = split.map(lambda x: x[1])\n",
    "    peak_matrix.var[\"chromEnd\"] = split.map(lambda x: x[2])\n",
    "    peak_matrix.var[\"name\"] = peak_matrix.var_names\n",
    "    scglue.genomics.Bed(peak_matrix.var).write_bed(\n",
    "        f\"{bag}/{subbag}/dataset/ATAC/peaks_{i}.bed\",\n",
    "        ncols=3\n",
    "    )"
   ]
  },
  {
   "cell_type": "code",
   "execution_count": null,
   "id": "premier-designer",
   "metadata": {},
   "outputs": [],
   "source": [
    "!cat {bag}/{subbag}/dataset/ATAC/peaks_*.bed | sort -k1,1 -k2,2n > {bag}/{subbag}/dataset/ATAC/peaks_all.bed\n",
    "!bedtools merge -i {bag}/{subbag}/dataset/ATAC/peaks_all.bed | sort -k1,1 -k2,2n > {bag}/{subbag}/dataset/ATAC/peaks_merged.bed"
   ]
  },
  {
   "cell_type": "code",
   "execution_count": null,
   "id": "following-newark",
   "metadata": {},
   "outputs": [],
   "source": [
    "merged_peaks = scglue.genomics.Bed.read_bed(f\"{bag}/{subbag}/dataset/ATAC/peaks_merged.bed\")\n",
    "merged_peaks[\"name\"] = merged_peaks[\"chrom\"] + \":\" \\\n",
    "    + merged_peaks[\"chromStart\"].astype(str) + \"-\" \\\n",
    "    + merged_peaks[\"chromEnd\"].astype(str)\n",
    "merged_peaks.index = merged_peaks[\"name\"]\n",
    "for i, peak_matrix in enumerate(peak_matrices):\n",
    "    mapping_graph = scglue.genomics.window_graph(\n",
    "        scglue.genomics.Bed(peak_matrix.var), merged_peaks,\n",
    "        window_size=0, right_sorted=True\n",
    "    )\n",
    "    mapping_matrix = biadjacency_matrix(\n",
    "        mapping_graph, peak_matrix.var_names, merged_peaks.index\n",
    "    )\n",
    "    peak_matrix = anndata.AnnData(\n",
    "        peak_matrix.X @ mapping_matrix,\n",
    "        obs=peak_matrix.obs, var=merged_peaks.df.iloc[:, :3]\n",
    "    )\n",
    "    peak_matrices[i] = peak_matrix"
   ]
  },
  {
   "cell_type": "code",
   "execution_count": null,
   "id": "sitting-edgar",
   "metadata": {},
   "outputs": [],
   "source": [
    "analysis_result = pd.read_csv(f\"{bag}/{subbag}/study/ATAC/MOp.snATAC-seq.AnalysisResult.csv.gz\")\n",
    "analysis_result.index = analysis_result[\"sample\"] + \"_\" + analysis_result[\"barcode\"]"
   ]
  },
  {
   "cell_type": "code",
   "execution_count": null,
   "id": "plain-wheel",
   "metadata": {},
   "outputs": [],
   "source": [
    "atac = anndata.concat(peak_matrices, axis=0, merge=\"same\")\n",
    "atac = atac[analysis_result.index]\n",
    "del atac.obs[\"sample\"]  # Avoid column overlap\n",
    "atac.obs = atac.obs.join(analysis_result)\n",
    "atac.obs.index.name, atac.var.index.name = \"cells\", \"peaks\"\n",
    "atac"
   ]
  },
  {
   "cell_type": "markdown",
   "id": "musical-essay",
   "metadata": {},
   "source": [
    "## Process meta"
   ]
  },
  {
   "cell_type": "code",
   "execution_count": null,
   "id": "chinese-linux",
   "metadata": {},
   "outputs": [],
   "source": [
    "atac.obs[\"domain\"] = \"scATAC-seq\"\n",
    "atac.obs[\"protocol\"] = \"snATAC-seq\"\n",
    "atac.obs[\"dataset\"] = \"Yao-2021-ATAC\""
   ]
  },
  {
   "cell_type": "code",
   "execution_count": null,
   "id": "infinite-embassy",
   "metadata": {},
   "outputs": [],
   "source": [
    "atac.obs[\"cell_type\"] = atac.obs[\"MajorCluster\"].replace({\n",
    "    \"L4\": \"L4/5 IT\", \"L5.IT.a\": \"L4/5 IT\", \"L5.IT.b\": \"L4/5 IT\",\n",
    "    \"L5.PT\": \"L5 ET\", \"L6.CT\": \"L6 CT\", \"L6.IT\": \"L6 IT\",\n",
    "    \"L23.a\": \"L2/3 IT\", \"L23.b\": \"L2/3 IT\", \"L23.c\": \"L2/3 IT\",\n",
    "    \"Pv\": \"Pvalb\"\n",
    "})\n",
    "mask = atac.obs[\"cell_type\"] == \"CGE\"\n",
    "atac.obs[\"cell_type\"].loc[mask] = atac.obs[\"SubCluster\"].loc[mask].str.split(\"_\").map(lambda x: x[0])\n",
    "atac.obs[\"batch\"] = atac.obs[\"sample\"]"
   ]
  },
  {
   "cell_type": "code",
   "execution_count": null,
   "id": "through-promise",
   "metadata": {},
   "outputs": [],
   "source": [
    "atac.var[\"genome\"] = \"mm10\""
   ]
  },
  {
   "cell_type": "markdown",
   "id": "victorian-stupid",
   "metadata": {},
   "source": [
    "# FRAGS2RNA"
   ]
  },
  {
   "cell_type": "code",
   "execution_count": null,
   "id": "exceptional-penny",
   "metadata": {},
   "outputs": [],
   "source": [
    "frags2rnas = [\n",
    "    scglue.data.bedmap2anndata(f\"{bag}/{subbag}/dataset/ATAC/{sample}.fragments.bedmap.gz\")\n",
    "    for sample in samples\n",
    "]"
   ]
  },
  {
   "cell_type": "code",
   "execution_count": null,
   "id": "joint-ghana",
   "metadata": {},
   "outputs": [],
   "source": [
    "for sample, frags2rna in zip(samples, frags2rnas):\n",
    "    frags2rna.obs_names = f\"{sample}_\" + frags2rna.obs_names"
   ]
  },
  {
   "cell_type": "code",
   "execution_count": null,
   "id": "chubby-orientation",
   "metadata": {},
   "outputs": [],
   "source": [
    "frags2rna = anndata.concat(frags2rnas, axis=0, merge=\"same\")\n",
    "frags2rna = anndata.AnnData(\n",
    "    frags2rna[atac.obs_names].X,\n",
    "    obs=atac.obs, var=frags2rna.var\n",
    ")\n",
    "frags2rna.obs.index.name, frags2rna.var.index.name = \"cells\", \"genes\"\n",
    "frags2rna"
   ]
  },
  {
   "cell_type": "markdown",
   "id": "found-intro",
   "metadata": {},
   "source": [
    "# snmC-seq"
   ]
  },
  {
   "cell_type": "markdown",
   "id": "cordless-newport",
   "metadata": {},
   "source": [
    "## Read data"
   ]
  },
  {
   "cell_type": "code",
   "execution_count": null,
   "id": "small-ethernet",
   "metadata": {},
   "outputs": [],
   "source": [
    "subbag = \"Analysis_EckerRen_Mouse_MOp_methylation_ATAC/data/EckerRen_Mouse_MOp_methylation_ATAC\"\n",
    "samples = [\n",
    "    \"2C-180409\", \"2C-180410\", \"3C-171206\",\n",
    "    \"3C-171207\", \"4B-171212\", \"4B-171213\",\n",
    "    \"4B-180104\", \"5D-180605\", \"5D-180612\"\n",
    "]"
   ]
  },
  {
   "cell_type": "code",
   "execution_count": null,
   "id": "southwest-testimony",
   "metadata": {},
   "outputs": [],
   "source": [
    "gene_id_mapping = rna.var[\"gene_ids\"].reset_index().set_index(\"gene_ids\")[\"genes\"].to_dict()"
   ]
  },
  {
   "cell_type": "code",
   "execution_count": null,
   "id": "metallic-shape",
   "metadata": {},
   "outputs": [],
   "source": [
    "met_matrices = []\n",
    "for sample in samples:\n",
    "    gene_da = MCDS.open(f\"{bag}/{subbag}/dataset/mC/{sample}.mcds\")[\"gene_da\"]\n",
    "    gene_da = gene_da.assign_coords(gene=np.vectorize(scglue.genomics.ens_trim_version)(gene_da.gene))\n",
    "    \n",
    "    mCH_mc = gene_da.sel(count_type=\"mc\", mc_type=\"CHN\")\n",
    "    mCH_c = gene_da.sel(count_type=\"cov\", mc_type=\"CHN\")\n",
    "    mCG_mc = gene_da.sel(count_type=\"mc\", mc_type=\"CGN\")\n",
    "    mCG_c = gene_da.sel(count_type=\"cov\", mc_type=\"CGN\")\n",
    "    \n",
    "    mCH_rate = (mCH_mc / mCH_c).to_pandas().fillna(0)\n",
    "    mCG_rate = (mCG_mc / mCG_c).to_pandas().fillna(0)\n",
    "    mCH_global = (mCH_mc.sum(dim=\"gene\") / mCH_c.sum(dim=\"gene\")).to_pandas()\n",
    "    mCG_global = (mCG_mc.sum(dim=\"gene\") / mCG_c.sum(dim=\"gene\")).to_pandas()\n",
    "    mCH_norm = mCH_rate.divide(mCH_global, axis=0)\n",
    "    mCG_norm = mCG_rate.divide(mCG_global, axis=0)\n",
    "    \n",
    "    mapped = gene_da.gene.to_index().map(gene_id_mapping)\n",
    "    mCH_rate = mCH_rate.loc[:, ~mapped.isna()]\n",
    "    mCG_rate = mCG_rate.loc[:, ~mapped.isna()]\n",
    "    mCH_norm = mCH_norm.loc[:, ~mapped.isna()]\n",
    "    mCG_norm = mCG_norm.loc[:, ~mapped.isna()]\n",
    "    \n",
    "    X = np.concatenate([mCH_rate.to_numpy(), mCG_rate.to_numpy()], axis=1)\n",
    "    X_norm = np.concatenate([mCH_norm.to_numpy(), mCG_norm.to_numpy()], axis=1)\n",
    "    obs = pd.DataFrame({\"sample\": sample}, index=gene_da.cell)\n",
    "    var = rna.var.loc[mapped.dropna(), [\"gene_ids\"]]\n",
    "    var = pd.concat([var.set_index(var.index + \"_mCH\"), var.set_index(var.index + \"_mCG\")])\n",
    "    met_matrices.append(anndata.AnnData(X=X, obs=obs, var=var, layers={\"norm\": X_norm}))"
   ]
  },
  {
   "cell_type": "code",
   "execution_count": null,
   "id": "political-championship",
   "metadata": {},
   "outputs": [],
   "source": [
    "analysis_result = pd.read_csv(\n",
    "    f\"{bag}/{subbag}/study/mC/MOp_clustering/MOp.snmC-seq.AnalysisResult.csv.gz\"\n",
    ").set_index(\"index\")"
   ]
  },
  {
   "cell_type": "code",
   "execution_count": null,
   "id": "trained-peripheral",
   "metadata": {},
   "outputs": [],
   "source": [
    "met = anndata.concat(met_matrices, axis=0, merge=\"same\")\n",
    "met = met[analysis_result.index]\n",
    "met.obs = met.obs.join(analysis_result)\n",
    "met.obs.index.name, met.var.index.name = \"cells\", \"genes\"\n",
    "met"
   ]
  },
  {
   "cell_type": "markdown",
   "id": "distributed-promotion",
   "metadata": {},
   "source": [
    "## Process meta"
   ]
  },
  {
   "cell_type": "code",
   "execution_count": null,
   "id": "criminal-dallas",
   "metadata": {},
   "outputs": [],
   "source": [
    "met.obs[\"domain\"] = \"snmC-seq\"\n",
    "met.obs[\"protocol\"] = \"snmC-seq2\"\n",
    "met.obs[\"dataset\"] = \"Yao-2021-MET\""
   ]
  },
  {
   "cell_type": "code",
   "execution_count": null,
   "id": "extended-conflict",
   "metadata": {},
   "outputs": [],
   "source": [
    "met.obs[\"cell_type\"] = met.obs[\"MajorCluster\"].replace({\n",
    "    \"L23-IT-Cux2\": \"L2/3 IT\", \"L4-IT-Rorb\": \"L4/5 IT\", \"L5-IT-Deptor\": \"L4/5 IT\",\n",
    "    \"L5-PT-Bcl6\": \"L5 ET\",  \"L6-CT-Foxp2\": \"L6 CT\", \"L6b-Galnt10\": \"L6 CT\",\n",
    "    \"L6-IT-Sulf1\": \"L6 IT\", \"L6-NP-Tshz2\": \"NP\", \"MGE-Sst\": \"Sst\", \"MGE-Pvalb\": \"Pvalb\"\n",
    "})\n",
    "mask = met.obs[\"cell_type\"] == \"CGE-VipNdnf\"\n",
    "met.obs[\"cell_type\"].loc[mask] = met.obs[\"SubCluster\"].loc[mask].str.split(r\"[-_]\").map(lambda x: x[2])"
   ]
  },
  {
   "cell_type": "code",
   "execution_count": null,
   "id": "missing-chart",
   "metadata": {},
   "outputs": [],
   "source": [
    "met.var[\"genome\"] = \"mm10\""
   ]
  },
  {
   "cell_type": "markdown",
   "id": "continuous-arctic",
   "metadata": {},
   "source": [
    "# Clean data"
   ]
  },
  {
   "cell_type": "code",
   "execution_count": null,
   "id": "infrared-colleague",
   "metadata": {},
   "outputs": [],
   "source": [
    "exclude_cell_types = [\n",
    "    \"Low Quality\", \"doublet\",\n",
    "    \"Astro\", \"Endo\", \"Macrophage\", \"OPC\", \"Oligo\", \"SMC\", \"VLMC\"\n",
    "]  # Only keep neurons\n",
    "retained_cells = rna.obs.query(f\"cell_type not in {exclude_cell_types}\").index\n",
    "rna = rna[retained_cells, :]\n",
    "rna"
   ]
  },
  {
   "cell_type": "code",
   "execution_count": null,
   "id": "global-circumstances",
   "metadata": {},
   "outputs": [],
   "source": [
    "retained_genes = rna.var.dropna(subset=[\"chrom\", \"chromStart\", \"chromEnd\"]).index\n",
    "rna = rna[:, retained_genes]\n",
    "rna.var = rna.var.astype({\"chromStart\": int, \"chromEnd\": int})\n",
    "rna"
   ]
  },
  {
   "cell_type": "code",
   "execution_count": null,
   "id": "considerable-murray",
   "metadata": {},
   "outputs": [],
   "source": [
    "sc.pp.filter_genes(rna, min_counts=1)\n",
    "rna"
   ]
  },
  {
   "cell_type": "code",
   "execution_count": null,
   "id": "interracial-horizontal",
   "metadata": {},
   "outputs": [],
   "source": [
    "exclude_cell_types = [\n",
    "    \"ASC\", \"Endo\", \"MGC\", \"OGC\", \"OPC\", \"Other\", \"Smc\"\n",
    "]  # Only keep neurons\n",
    "retained_cells = atac.obs.query(f\"cell_type not in {exclude_cell_types}\").index\n",
    "atac = atac[retained_cells, :]\n",
    "atac"
   ]
  },
  {
   "cell_type": "code",
   "execution_count": null,
   "id": "aware-plain",
   "metadata": {},
   "outputs": [],
   "source": [
    "blacklist_overlap = scglue.genomics.window_graph(\n",
    "    scglue.genomics.Bed(atac.var.assign(name=atac.var_names)),\n",
    "    \"../genome/Blacklist/lists/hg38-blacklist.v2.bed.gz\",\n",
    "    window_size=0\n",
    ")"
   ]
  },
  {
   "cell_type": "code",
   "execution_count": null,
   "id": "musical-allowance",
   "metadata": {},
   "outputs": [],
   "source": [
    "retained_peaks = np.asarray(biadjacency_matrix(\n",
    "    blacklist_overlap, atac.var_names\n",
    ").sum(axis=1)).ravel() == 0\n",
    "atac = atac[:, retained_peaks]\n",
    "atac.var = atac.var.astype({\"chromStart\": int, \"chromEnd\": int})\n",
    "atac"
   ]
  },
  {
   "cell_type": "code",
   "execution_count": null,
   "id": "trying-villa",
   "metadata": {},
   "outputs": [],
   "source": [
    "sc.pp.filter_genes(atac, min_counts=1)\n",
    "atac"
   ]
  },
  {
   "cell_type": "code",
   "execution_count": null,
   "id": "wooden-artwork",
   "metadata": {},
   "outputs": [],
   "source": [
    "ohe = sklearn.preprocessing.OneHotEncoder()\n",
    "donor_ohe = ohe.fit_transform(atac.obs[[\"batch\"]])\n",
    "atac_per_donor = donor_ohe.T @ atac.X\n",
    "atac_n_donor = (atac_per_donor > 0).sum(axis=0).A1\n",
    "atac = atac[:, atac_n_donor > atac_per_donor.shape[0] / 2].copy()\n",
    "atac.shape"
   ]
  },
  {
   "cell_type": "code",
   "execution_count": null,
   "id": "authorized-malawi",
   "metadata": {},
   "outputs": [],
   "source": [
    "frags2rna = frags2rna[retained_cells, :]\n",
    "frags2rna"
   ]
  },
  {
   "cell_type": "code",
   "execution_count": null,
   "id": "micro-distance",
   "metadata": {},
   "outputs": [],
   "source": [
    "missing_vars = list(set(rna.var_names).difference(frags2rna.var_names))\n",
    "frags2rna = anndata.concat([\n",
    "    frags2rna, anndata.AnnData(\n",
    "        X=scipy.sparse.csr_matrix((frags2rna.shape[0], len(missing_vars))),\n",
    "        obs=pd.DataFrame(index=frags2rna.obs_names), var=pd.DataFrame(index=missing_vars)\n",
    "    )\n",
    "], axis=1, merge=\"first\")\n",
    "frags2rna = frags2rna[:, rna.var_names].copy()  # Keep the same features as RNA\n",
    "frags2rna"
   ]
  },
  {
   "cell_type": "code",
   "execution_count": null,
   "id": "fifteen-magic",
   "metadata": {},
   "outputs": [],
   "source": [
    "exclude_cell_types = [\n",
    "    \"Outlier\", \"NonN\"\n",
    "]  # Only keep neurons\n",
    "retained_cells = met.obs.query(f\"cell_type not in {exclude_cell_types}\").index\n",
    "met = met[retained_cells, :]\n",
    "met"
   ]
  },
  {
   "cell_type": "markdown",
   "id": "registered-permit",
   "metadata": {},
   "source": [
    "# Process data"
   ]
  },
  {
   "cell_type": "code",
   "execution_count": null,
   "id": "committed-astrology",
   "metadata": {},
   "outputs": [],
   "source": [
    "sc.pp.highly_variable_genes(rna, n_top_genes=2000, flavor=\"seurat_v3\")\n",
    "rna.var.highly_variable.sum()"
   ]
  },
  {
   "cell_type": "markdown",
   "id": "starting-queen",
   "metadata": {},
   "source": [
    "# Save data"
   ]
  },
  {
   "cell_type": "code",
   "execution_count": null,
   "id": "lonely-xerox",
   "metadata": {},
   "outputs": [],
   "source": [
    "rna.write(\"../dataset/Yao-2021-RNA.h5ad\", compression=\"gzip\")\n",
    "atac.write(\"../dataset/Yao-2021-ATAC.h5ad\", compression=\"gzip\")\n",
    "frags2rna.write(\"../dataset/Yao-2021-FRAGS2RNA.h5ad\", compression=\"gzip\")\n",
    "met.write(\"../dataset/Yao-2021-MET.h5ad\", compression=\"gzip\")"
   ]
  }
 ],
 "metadata": {
  "kernelspec": {
   "display_name": "Python 3",
   "language": "python",
   "name": "python3"
  },
  "language_info": {
   "codemirror_mode": {
    "name": "ipython",
    "version": 3
   },
   "file_extension": ".py",
   "mimetype": "text/x-python",
   "name": "python",
   "nbconvert_exporter": "python",
   "pygments_lexer": "ipython3",
   "version": "3.8.5"
  },
  "toc-autonumbering": true
 },
 "nbformat": 4,
 "nbformat_minor": 5
}
