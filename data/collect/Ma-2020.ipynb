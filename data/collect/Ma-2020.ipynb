{
 "cells": [
  {
   "cell_type": "code",
   "execution_count": null,
   "metadata": {},
   "outputs": [],
   "source": [
    "import numpy as np\n",
    "import pandas as pd\n",
    "import networkx as nx\n",
    "import scipy.io\n",
    "import anndata\n",
    "import scanpy as sc\n",
    "from networkx.algorithms.bipartite import biadjacency_matrix\n",
    "\n",
    "import scglue"
   ]
  },
  {
   "cell_type": "markdown",
   "metadata": {},
   "source": [
    "# scRNA-seq"
   ]
  },
  {
   "cell_type": "markdown",
   "metadata": {},
   "source": [
    "## Read data"
   ]
  },
  {
   "cell_type": "code",
   "execution_count": null,
   "metadata": {},
   "outputs": [],
   "source": [
    "rna_counts = pd.read_table(\"../download/Ma-2020/GSM4156608_skin.late.anagen.rna.counts.txt.gz\", index_col=0)\n",
    "rna_obs = pd.DataFrame(index=rna_counts.columns)\n",
    "rna_obs.index = rna_obs.index.str.replace(\",\", \".\")\n",
    "rna_var = pd.DataFrame(index=rna_counts.index)\n",
    "rna_obs.index.name, rna_var.index.name = \"cells\", \"genes\"\n",
    "rna = anndata.AnnData(\n",
    "    X=scipy.sparse.csr_matrix(rna_counts.to_numpy().T),\n",
    "    obs=rna_obs,\n",
    "    var=rna_var\n",
    ")\n",
    "rna"
   ]
  },
  {
   "cell_type": "markdown",
   "metadata": {},
   "source": [
    "## Process meta"
   ]
  },
  {
   "cell_type": "code",
   "execution_count": null,
   "metadata": {},
   "outputs": [],
   "source": [
    "rna.obs[\"domain\"] = \"scRNA-seq\"\n",
    "rna.obs[\"protocol\"] = \"SHARE-seq\"\n",
    "rna.obs[\"dataset\"] = \"Ma-2020-RNA\""
   ]
  },
  {
   "cell_type": "code",
   "execution_count": null,
   "metadata": {},
   "outputs": [],
   "source": [
    "scglue.data.get_gene_annotation(\n",
    "    rna, gtf=\"../genome/gencode.vM25.chr_patch_hapl_scaff.annotation.gtf.gz\", gtf_by=\"gene_name\"\n",
    ")\n",
    "rna.var[\"genome\"] = \"mm10\""
   ]
  },
  {
   "cell_type": "markdown",
   "metadata": {},
   "source": [
    "# ATAC"
   ]
  },
  {
   "cell_type": "markdown",
   "metadata": {},
   "source": [
    "## Read data"
   ]
  },
  {
   "cell_type": "code",
   "execution_count": null,
   "metadata": {},
   "outputs": [],
   "source": [
    "atac_counts = scipy.io.mmread(\"../download/Ma-2020/GSM4156597_skin.late.anagen.counts.txt.gz\")\n",
    "atac_obs = pd.read_table(\n",
    "    \"../download/Ma-2020/GSM4156597_skin.late.anagen.barcodes.txt.gz\",\n",
    "    header=None, names=[\"Cells\"], index_col=0\n",
    ")\n",
    "atac_var = pd.read_table(\n",
    "    \"../download/Ma-2020/GSM4156597_skin.late.anagen.peaks.bed.gz\",\n",
    "    header=None, names=[\"chrom\", \"chromStart\", \"chromEnd\"]\n",
    ")\n",
    "atac_obs.index.name, atac_var.index.name = \"cells\", \"peaks\"\n",
    "atac = anndata.AnnData(\n",
    "    X=atac_counts.T.tocsr(),\n",
    "    obs=atac_obs,\n",
    "    var=atac_var\n",
    ")\n",
    "atac"
   ]
  },
  {
   "cell_type": "markdown",
   "metadata": {},
   "source": [
    "## Process meta"
   ]
  },
  {
   "cell_type": "code",
   "execution_count": null,
   "metadata": {},
   "outputs": [],
   "source": [
    "atac.obs[\"domain\"] = \"scATAC-seq\"\n",
    "atac.obs[\"protocol\"] = \"SHARE-seq\"\n",
    "atac.obs[\"dataset\"] = \"Ma-2020-ATAC\""
   ]
  },
  {
   "cell_type": "code",
   "execution_count": null,
   "metadata": {},
   "outputs": [],
   "source": [
    "atac.var.index = pd.Index(\n",
    "    atac.var[\"chrom\"] + \":\" +\n",
    "    atac.var[\"chromStart\"].astype(str) + \"-\" +\n",
    "    atac.var[\"chromEnd\"].astype(str),\n",
    "    name=atac.var.index.name\n",
    ")\n",
    "atac.var[\"genome\"] = \"mm10\""
   ]
  },
  {
   "cell_type": "markdown",
   "metadata": {},
   "source": [
    "# FRAGS2RNA"
   ]
  },
  {
   "cell_type": "code",
   "execution_count": null,
   "metadata": {},
   "outputs": [],
   "source": [
    "frags2rna = scglue.data.bedmap2anndata(\"../download/Ma-2020/GSM4156597_skin.late.anagen.atac.fragments.bedmap.gz\")\n",
    "frags2rna.obs.index = frags2rna.obs.index.str.replace(\",\", \".\")\n",
    "frags2rna.obs.index.name, frags2rna.var.index.name = \"cells\", \"genes\"\n",
    "frags2rna"
   ]
  },
  {
   "cell_type": "code",
   "execution_count": null,
   "metadata": {},
   "outputs": [],
   "source": [
    "frags2rna.obs[\"domain\"] = \"scATAC-seq\"\n",
    "frags2rna.obs[\"protocol\"] = \"SHARE-seq\"\n",
    "frags2rna.obs[\"dataset\"] = \"Ma-2020-FRAGS2RNA\""
   ]
  },
  {
   "cell_type": "markdown",
   "metadata": {},
   "source": [
    "# Pair samples & add cell types"
   ]
  },
  {
   "cell_type": "code",
   "execution_count": null,
   "metadata": {},
   "outputs": [],
   "source": [
    "cell_type = pd.read_table(\"../download/Ma-2020/celltype_v2.txt\")\n",
    "cell_type.shape"
   ]
  },
  {
   "cell_type": "code",
   "execution_count": null,
   "metadata": {},
   "outputs": [],
   "source": [
    "cell_type[\"celltype\"] = cell_type[\"celltype\"].replace({\n",
    "    \"Dermal Fibrobalst\": \"Dermal Fibroblast\",\n",
    "    \"Hair Shaft-cuticle.cortex\": \"Hair Shaft-Cuticle/Cortex\",\n",
    "    \"K6+ Bulge Companion Layer\": \"K6+ Bulge/Companion Layer\",\n",
    "    \"ahighCD34+ bulge\": \"ahigh CD34+ bulge\",\n",
    "    \"alowCD34+ bulge\": \"alow CD34+ bulge\"\n",
    "})\n",
    "cell_type = cell_type.query(\"celltype != 'Mix'\")\n",
    "cell_type.shape"
   ]
  },
  {
   "cell_type": "markdown",
   "metadata": {},
   "source": [
    "ATAC barcodes do not match, need some conversion..."
   ]
  },
  {
   "cell_type": "code",
   "execution_count": null,
   "metadata": {},
   "outputs": [],
   "source": [
    "atac_bc_map = {\n",
    "    \"04\": \"53\",\n",
    "    \"05\": \"53\",\n",
    "    \"06\": \"54\",\n",
    "    \"07\": \"55\",\n",
    "    \"08\": \"56\"\n",
    "}\n",
    "\n",
    "@np.vectorize\n",
    "def map_atac_bc(x):\n",
    "    xs = x.split(\".\")\n",
    "    xs[-1] = atac_bc_map[xs[-1]]\n",
    "    return \".\".join(xs)\n",
    "\n",
    "cell_type[\"atac.bc.mapped\"] = map_atac_bc(cell_type[\"atac.bc\"])"
   ]
  },
  {
   "cell_type": "code",
   "execution_count": null,
   "metadata": {},
   "outputs": [],
   "source": [
    "rna = rna[cell_type[\"rna.bc\"].to_numpy(), :]\n",
    "rna.obs[\"cell_type\"] = cell_type[\"celltype\"].to_numpy()\n",
    "rna.obs[\"batch\"] = rna.obs_names.str.split(\".\").map(lambda x: x[-1])"
   ]
  },
  {
   "cell_type": "code",
   "execution_count": null,
   "metadata": {},
   "outputs": [],
   "source": [
    "atac = atac[cell_type[\"atac.bc.mapped\"].to_numpy(), :]\n",
    "atac.obs[\"cell_type\"] = cell_type[\"celltype\"].to_numpy()\n",
    "atac.obs[\"batch\"] = atac.obs_names.str.split(\".\").map(lambda x: x[-1])"
   ]
  },
  {
   "cell_type": "code",
   "execution_count": null,
   "metadata": {},
   "outputs": [],
   "source": [
    "frags2rna = frags2rna[cell_type[\"atac.bc\"].to_numpy(), :]\n",
    "frags2rna.obs[\"cell_type\"] = cell_type[\"celltype\"].to_numpy()\n",
    "frags2rna.obs.index = atac.obs.index\n",
    "frags2rna.obs[\"batch\"] = frags2rna.obs_names.str.split(\".\").map(lambda x: x[-1])"
   ]
  },
  {
   "cell_type": "markdown",
   "metadata": {},
   "source": [
    "# Clean data"
   ]
  },
  {
   "cell_type": "code",
   "execution_count": null,
   "metadata": {},
   "outputs": [],
   "source": [
    "retained_genes = rna.var.dropna(subset=[\"chrom\", \"chromStart\", \"chromEnd\"]).index\n",
    "rna = rna[:, retained_genes]\n",
    "rna.var = rna.var.astype({\"chromStart\": int, \"chromEnd\": int})\n",
    "rna"
   ]
  },
  {
   "cell_type": "code",
   "execution_count": null,
   "metadata": {},
   "outputs": [],
   "source": [
    "sc.pp.filter_genes(rna, min_counts=1)\n",
    "rna"
   ]
  },
  {
   "cell_type": "code",
   "execution_count": null,
   "metadata": {},
   "outputs": [],
   "source": [
    "blacklist_overlap = scglue.genomics.window_graph(\n",
    "    scglue.genomics.Bed(atac.var.assign(name=atac.var_names)),\n",
    "    \"../genome/Blacklist/lists/mm10-blacklist.v2.bed.gz\",\n",
    "    window_size=0\n",
    ")"
   ]
  },
  {
   "cell_type": "code",
   "execution_count": null,
   "metadata": {},
   "outputs": [],
   "source": [
    "retained_peaks = np.asarray(biadjacency_matrix(\n",
    "    blacklist_overlap, atac.var_names\n",
    ").sum(axis=1)).ravel() == 0\n",
    "atac = atac[:, retained_peaks]\n",
    "atac.var = atac.var.astype({\"chromStart\": int, \"chromEnd\": int})\n",
    "atac"
   ]
  },
  {
   "cell_type": "code",
   "execution_count": null,
   "metadata": {},
   "outputs": [],
   "source": [
    "sc.pp.filter_genes(atac, min_counts=1)\n",
    "atac"
   ]
  },
  {
   "cell_type": "code",
   "execution_count": null,
   "metadata": {},
   "outputs": [],
   "source": [
    "missing_vars = list(set(rna.var_names).difference(frags2rna.var_names))\n",
    "frags2rna = anndata.concat([\n",
    "    frags2rna, anndata.AnnData(\n",
    "        X=scipy.sparse.csr_matrix((frags2rna.shape[0], len(missing_vars))),\n",
    "        obs=pd.DataFrame(index=frags2rna.obs_names), var=pd.DataFrame(index=missing_vars)\n",
    "    )\n",
    "], axis=1, merge=\"first\")\n",
    "frags2rna = frags2rna[:, rna.var_names].copy()  # Keep the same features as RNA\n",
    "frags2rna"
   ]
  },
  {
   "cell_type": "markdown",
   "metadata": {},
   "source": [
    "# Process data"
   ]
  },
  {
   "cell_type": "code",
   "execution_count": null,
   "metadata": {},
   "outputs": [],
   "source": [
    "sc.pp.highly_variable_genes(rna, n_top_genes=2000, flavor=\"seurat_v3\")\n",
    "rna.var.highly_variable.sum()"
   ]
  },
  {
   "cell_type": "markdown",
   "metadata": {},
   "source": [
    "# Save data"
   ]
  },
  {
   "cell_type": "code",
   "execution_count": null,
   "metadata": {},
   "outputs": [],
   "source": [
    "rna.write(\"../dataset/Ma-2020-RNA.h5ad\", compression=\"gzip\")\n",
    "atac.write(\"../dataset/Ma-2020-ATAC.h5ad\", compression=\"gzip\")\n",
    "frags2rna.write(\"../dataset/Ma-2020-FRAGS2RNA.h5ad\", compression=\"gzip\")"
   ]
  }
 ],
 "metadata": {
  "kernelspec": {
   "display_name": "Python 3",
   "language": "python",
   "name": "python3"
  },
  "language_info": {
   "codemirror_mode": {
    "name": "ipython",
    "version": 3
   },
   "file_extension": ".py",
   "mimetype": "text/x-python",
   "name": "python",
   "nbconvert_exporter": "python",
   "pygments_lexer": "ipython3",
   "version": "3.8.5"
  }
 },
 "nbformat": 4,
 "nbformat_minor": 4
}
