{
 "cells": [
  {
   "cell_type": "code",
   "execution_count": null,
   "metadata": {},
   "outputs": [],
   "source": [
    "import numpy as np\n",
    "import pandas as pd\n",
    "import networkx as nx\n",
    "import scipy.io\n",
    "import anndata\n",
    "import scanpy as sc\n",
    "from networkx.algorithms.bipartite import biadjacency_matrix\n",
    "\n",
    "import scglue"
   ]
  },
  {
   "cell_type": "markdown",
   "metadata": {},
   "source": [
    "# scRNA-seq"
   ]
  },
  {
   "cell_type": "markdown",
   "metadata": {},
   "source": [
    "## Read data"
   ]
  },
  {
   "cell_type": "code",
   "execution_count": null,
   "metadata": {},
   "outputs": [],
   "source": [
    "rna_matrix = scipy.io.mmread(\"../download/Chen-2019/GSE126074_AdBrainCortex_SNAREseq_cDNA.counts.mtx.gz\").T.tocsr()\n",
    "rna_obs = pd.read_csv(\"../download/Chen-2019/GSE126074_AdBrainCortex_SNAREseq_cDNA.barcodes.tsv.gz\", header=None, index_col=0)\n",
    "rna_var = pd.read_csv(\"../download/Chen-2019/GSE126074_AdBrainCortex_SNAREseq_cDNA.genes.tsv.gz\", header=None, index_col=0)\n",
    "rna_obs.index.name, rna_var.index.name = \"cells\", \"genes\"\n",
    "rna = anndata.AnnData(X=rna_matrix, obs=rna_obs, var=rna_var)\n",
    "rna"
   ]
  },
  {
   "cell_type": "markdown",
   "metadata": {},
   "source": [
    "## Process meta"
   ]
  },
  {
   "cell_type": "code",
   "execution_count": null,
   "metadata": {},
   "outputs": [],
   "source": [
    "rna.obs[\"domain\"] = \"scRNA-seq\"\n",
    "rna.obs[\"protocol\"] = \"SNARE-seq\"\n",
    "rna.obs[\"dataset\"] = \"Chen-2019-RNA\""
   ]
  },
  {
   "cell_type": "code",
   "execution_count": null,
   "metadata": {},
   "outputs": [],
   "source": [
    "scglue.data.get_gene_annotation(\n",
    "    rna, gtf=\"../genome/gencode.vM25.chr_patch_hapl_scaff.annotation.gtf.gz\",\n",
    "    gtf_by=\"gene_name\"\n",
    ")\n",
    "rna.var[\"genome\"] = \"mm10\""
   ]
  },
  {
   "cell_type": "markdown",
   "metadata": {},
   "source": [
    "# scATAC-seq"
   ]
  },
  {
   "cell_type": "markdown",
   "metadata": {},
   "source": [
    "## Read data"
   ]
  },
  {
   "cell_type": "code",
   "execution_count": null,
   "metadata": {},
   "outputs": [],
   "source": [
    "atac_matrix = scipy.io.mmread(\"../download/Chen-2019/GSE126074_AdBrainCortex_SNAREseq_chromatin.counts.mtx.gz\").T.tocsr()\n",
    "atac_obs = pd.read_csv(\"../download/Chen-2019/GSE126074_AdBrainCortex_SNAREseq_chromatin.barcodes.tsv.gz\", header=None, index_col=0)\n",
    "atac_var = pd.read_csv(\"../download/Chen-2019/GSE126074_AdBrainCortex_SNAREseq_chromatin.peaks.tsv.gz\", header=None, index_col=0)\n",
    "atac_obs.index.name, atac_var.index.name = \"cells\", \"peaks\"\n",
    "atac = anndata.AnnData(X=atac_matrix, obs=atac_obs, var=atac_var)\n",
    "atac"
   ]
  },
  {
   "cell_type": "markdown",
   "metadata": {},
   "source": [
    "## Process meta"
   ]
  },
  {
   "cell_type": "code",
   "execution_count": null,
   "metadata": {},
   "outputs": [],
   "source": [
    "atac.obs[\"domain\"] = \"scATAC-seq\"\n",
    "atac.obs[\"protocol\"] = \"SNARE-seq\"\n",
    "atac.obs[\"dataset\"] = \"Chen-2019-ATAC\""
   ]
  },
  {
   "cell_type": "code",
   "execution_count": null,
   "metadata": {},
   "outputs": [],
   "source": [
    "atac.var[\"chrom\"] = np.vectorize(lambda x: x.split(\":\")[0])(atac.var_names)\n",
    "atac.var[\"chromStart\"] = np.vectorize(lambda x: x.split(\":\")[1].split(\"-\")[0])(atac.var_names).astype(int)\n",
    "atac.var[\"chromEnd\"] = np.vectorize(lambda x: x.split(\"-\")[1])(atac.var_names).astype(int)\n",
    "atac.var[\"genome\"] = \"mm10\""
   ]
  },
  {
   "cell_type": "markdown",
   "metadata": {},
   "source": [
    "# Pair samples & add cell types"
   ]
  },
  {
   "cell_type": "code",
   "execution_count": null,
   "metadata": {},
   "outputs": [],
   "source": [
    "meta = pd.read_csv(\"../download/Chen-2019/AdBrainCortex_SNAREseq_metadata.csv\", index_col=0)\n",
    "meta = meta.query(\"Ident != 'Mis'\")\n",
    "meta.head()"
   ]
  },
  {
   "cell_type": "code",
   "execution_count": null,
   "metadata": {},
   "outputs": [],
   "source": [
    "rna = rna[meta.index, :]\n",
    "atac = atac[meta.index, :]"
   ]
  },
  {
   "cell_type": "code",
   "execution_count": null,
   "metadata": {},
   "outputs": [],
   "source": [
    "rna.obs[\"cell_type\"] = meta[\"Ident\"]\n",
    "atac.obs[\"cell_type\"] = meta[\"Ident\"]"
   ]
  },
  {
   "cell_type": "markdown",
   "metadata": {},
   "source": [
    "# Clean data"
   ]
  },
  {
   "cell_type": "code",
   "execution_count": null,
   "metadata": {},
   "outputs": [],
   "source": [
    "retained_genes = rna.var.dropna(subset=[\"chrom\", \"chromStart\", \"chromEnd\"]).index\n",
    "rna = rna[:, retained_genes]\n",
    "rna.var = rna.var.astype({\"chromStart\": int, \"chromEnd\": int})\n",
    "rna"
   ]
  },
  {
   "cell_type": "code",
   "execution_count": null,
   "metadata": {},
   "outputs": [],
   "source": [
    "sc.pp.filter_genes(rna, min_counts=1)\n",
    "rna"
   ]
  },
  {
   "cell_type": "code",
   "execution_count": null,
   "metadata": {},
   "outputs": [],
   "source": [
    "blacklist_overlap = scglue.genomics.window_graph(\n",
    "    scglue.genomics.Bed(atac.var.assign(name=atac.var_names)),\n",
    "    \"../genome/Blacklist/lists/mm10-blacklist.v2.bed.gz\",\n",
    "    window_size=0\n",
    ")"
   ]
  },
  {
   "cell_type": "code",
   "execution_count": null,
   "metadata": {},
   "outputs": [],
   "source": [
    "retained_peaks = np.asarray(biadjacency_matrix(\n",
    "    blacklist_overlap, atac.var_names\n",
    ").sum(axis=1)).ravel() == 0\n",
    "atac = atac[:, retained_peaks]\n",
    "atac.var = atac.var.astype({\"chromStart\": int, \"chromEnd\": int})\n",
    "atac"
   ]
  },
  {
   "cell_type": "code",
   "execution_count": null,
   "metadata": {},
   "outputs": [],
   "source": [
    "sc.pp.filter_genes(atac, min_counts=1)\n",
    "atac"
   ]
  },
  {
   "cell_type": "markdown",
   "metadata": {},
   "source": [
    "# Process data"
   ]
  },
  {
   "cell_type": "code",
   "execution_count": null,
   "metadata": {},
   "outputs": [],
   "source": [
    "sc.pp.highly_variable_genes(rna, n_top_genes=2000, flavor=\"seurat_v3\")\n",
    "rna.var.highly_variable.sum()"
   ]
  },
  {
   "cell_type": "markdown",
   "metadata": {},
   "source": [
    "# Save data"
   ]
  },
  {
   "cell_type": "code",
   "execution_count": null,
   "metadata": {
    "scrolled": true
   },
   "outputs": [],
   "source": [
    "rna.write(\"../dataset/Chen-2019-RNA.h5ad\", compression=\"gzip\")\n",
    "atac.write(\"../dataset/Chen-2019-ATAC.h5ad\", compression=\"gzip\")\n",
    "!touch ../dataset/Chen-2019-FRAGS2RNA.h5ad  # Sham file"
   ]
  }
 ],
 "metadata": {
  "kernelspec": {
   "display_name": "Python 3",
   "language": "python",
   "name": "python3"
  },
  "language_info": {
   "codemirror_mode": {
    "name": "ipython",
    "version": 3
   },
   "file_extension": ".py",
   "mimetype": "text/x-python",
   "name": "python",
   "nbconvert_exporter": "python",
   "pygments_lexer": "ipython3",
   "version": "3.8.5"
  },
  "toc": {
   "base_numbering": 1,
   "nav_menu": {},
   "number_sections": true,
   "sideBar": true,
   "skip_h1_title": true,
   "title_cell": "Table of Contents",
   "title_sidebar": "Contents",
   "toc_cell": false,
   "toc_position": {},
   "toc_section_display": true,
   "toc_window_display": true
  },
  "toc-autonumbering": true,
  "varInspector": {
   "cols": {
    "lenName": 16,
    "lenType": 16,
    "lenVar": 40
   },
   "kernels_config": {
    "python": {
     "delete_cmd_postfix": "",
     "delete_cmd_prefix": "del ",
     "library": "var_list.py",
     "varRefreshCmd": "print(var_dic_list())"
    },
    "r": {
     "delete_cmd_postfix": ") ",
     "delete_cmd_prefix": "rm(",
     "library": "var_list.r",
     "varRefreshCmd": "cat(var_dic_list()) "
    }
   },
   "types_to_exclude": [
    "module",
    "function",
    "builtin_function_or_method",
    "instance",
    "_Feature"
   ],
   "window_display": false
  }
 },
 "nbformat": 4,
 "nbformat_minor": 4
}
