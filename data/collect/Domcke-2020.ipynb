{
 "cells": [
  {
   "cell_type": "code",
   "execution_count": null,
   "metadata": {},
   "outputs": [],
   "source": [
    "import gzip\n",
    "import pathlib\n",
    "import pickle\n",
    "import anndata\n",
    "import networkx as nx\n",
    "import numpy as np\n",
    "import pandas as pd\n",
    "import scanpy as sc\n",
    "from networkx.algorithms.bipartite import biadjacency_matrix\n",
    "\n",
    "import scglue"
   ]
  },
  {
   "cell_type": "markdown",
   "metadata": {},
   "source": [
    "# Read data"
   ]
  },
  {
   "cell_type": "code",
   "execution_count": null,
   "metadata": {},
   "outputs": [],
   "source": [
    "adata = []\n",
    "for fname in sorted(pathlib.Path(\"../download/Domcke-2020\").glob(\"*.pkl.gz\")):\n",
    "    print(f\"Processing {fname}...\")\n",
    "    with gzip.open(fname, \"rb\") as f:\n",
    "        d = pickle.load(f)\n",
    "        adata.append(anndata.AnnData(\n",
    "            X=d[\"X\"], obs=d[\"obs\"],\n",
    "            var=pd.DataFrame(index=d[\"var_names\"])\n",
    "        ))"
   ]
  },
  {
   "cell_type": "code",
   "execution_count": null,
   "metadata": {},
   "outputs": [],
   "source": [
    "adata = anndata.AnnData.concatenate(*adata, batch_key=\"file\", index_unique=None)\n",
    "adata.obs.index.name, adata.var.index.name = \"cells\", \"peaks\"\n",
    "adata"
   ]
  },
  {
   "cell_type": "markdown",
   "metadata": {},
   "source": [
    "# Process meta"
   ]
  },
  {
   "cell_type": "code",
   "execution_count": null,
   "metadata": {},
   "outputs": [],
   "source": [
    "adata.obs[\"domain\"] = \"scATAC-seq\"\n",
    "adata.obs[\"protocol\"] = \"sci-ATAC-seq3\"\n",
    "adata.obs[\"dataset\"] = \"Domcke-2020\"\n",
    "adata.obs.head()"
   ]
  },
  {
   "cell_type": "code",
   "execution_count": null,
   "metadata": {},
   "outputs": [],
   "source": [
    "adata.var[\"chrom\"] = np.vectorize(lambda x: x.split(\"-\")[0])(adata.var_names)\n",
    "adata.var[\"chromStart\"] = np.vectorize(lambda x: int(x.split(\"-\")[1]))(adata.var_names)\n",
    "adata.var[\"chromEnd\"] = np.vectorize(lambda x: int(x.split(\"-\")[2]))(adata.var_names)\n",
    "adata.var[\"genome\"] = \"hg19\"\n",
    "adata.var.head()"
   ]
  },
  {
   "cell_type": "markdown",
   "metadata": {},
   "source": [
    "# Clean data"
   ]
  },
  {
   "cell_type": "code",
   "execution_count": null,
   "metadata": {},
   "outputs": [],
   "source": [
    "blacklist_overlap = scglue.genomics.window_graph(\n",
    "    scglue.genomics.Bed(adata.var.assign(name=adata.var_names)),\n",
    "    \"../genome/Blacklist/lists/hg19-blacklist.v2.bed.gz\",\n",
    "    window_size=0\n",
    ")"
   ]
  },
  {
   "cell_type": "code",
   "execution_count": null,
   "metadata": {},
   "outputs": [],
   "source": [
    "retained_peaks = np.asarray(biadjacency_matrix(\n",
    "    blacklist_overlap, adata.var_names\n",
    ").sum(axis=1)).ravel() == 0\n",
    "adata = adata[:, retained_peaks]\n",
    "adata.var = adata.var.astype({\"chromStart\": int, \"chromEnd\": int})\n",
    "adata"
   ]
  },
  {
   "cell_type": "code",
   "execution_count": null,
   "metadata": {},
   "outputs": [],
   "source": [
    "sc.pp.filter_genes(adata, min_counts=1)\n",
    "adata"
   ]
  },
  {
   "cell_type": "markdown",
   "metadata": {},
   "source": [
    "# Save data"
   ]
  },
  {
   "cell_type": "code",
   "execution_count": null,
   "metadata": {},
   "outputs": [],
   "source": [
    "adata.write_h5ad(\"../dataset/Domcke-2020.h5ad\", compression=\"gzip\")"
   ]
  }
 ],
 "metadata": {
  "kernelspec": {
   "display_name": "Python 3",
   "language": "python",
   "name": "python3"
  },
  "language_info": {
   "codemirror_mode": {
    "name": "ipython",
    "version": 3
   },
   "file_extension": ".py",
   "mimetype": "text/x-python",
   "name": "python",
   "nbconvert_exporter": "python",
   "pygments_lexer": "ipython3",
   "version": "3.8.5"
  }
 },
 "nbformat": 4,
 "nbformat_minor": 4
}
