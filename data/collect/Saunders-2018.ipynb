{
 "cells": [
  {
   "cell_type": "code",
   "execution_count": null,
   "metadata": {},
   "outputs": [],
   "source": [
    "import numpy as np\n",
    "import pandas as pd\n",
    "import scipy.io\n",
    "import anndata\n",
    "import scanpy as sc\n",
    "\n",
    "import scglue"
   ]
  },
  {
   "cell_type": "markdown",
   "metadata": {},
   "source": [
    "# Read data"
   ]
  },
  {
   "cell_type": "code",
   "execution_count": null,
   "metadata": {},
   "outputs": [],
   "source": [
    "X = scipy.io.mmread(\"../download/Saunders-2018/F_GRCm38.81.P60Cortex_noRep5_FRONTALonly.raw.dge.mtx.gz\").T.tocsr()"
   ]
  },
  {
   "cell_type": "code",
   "execution_count": null,
   "metadata": {},
   "outputs": [],
   "source": [
    "obs_names = pd.read_table(\n",
    "    \"../download/Saunders-2018/F_GRCm38.81.P60Cortex_noRep5_FRONTALonly.raw.dge.colnames\",\n",
    "    header=None\n",
    ").to_numpy().ravel()\n",
    "var_names = pd.read_table(\n",
    "    \"../download/Saunders-2018/F_GRCm38.81.P60Cortex_noRep5_FRONTALonly.raw.dge.rownames\",\n",
    "    header=None\n",
    ").to_numpy().ravel()"
   ]
  },
  {
   "cell_type": "code",
   "execution_count": null,
   "metadata": {},
   "outputs": [],
   "source": [
    "obs = pd.read_csv(\n",
    "    \"../download/Saunders-2018/F_GRCm38.81.P60Cortex_noRep5_FRONTALonly.cell_cluster_outcomes.csv\",\n",
    "    index_col=0\n",
    ").loc[obs_names, :]"
   ]
  },
  {
   "cell_type": "code",
   "execution_count": null,
   "metadata": {},
   "outputs": [],
   "source": [
    "adata = anndata.AnnData(X=X, obs=obs, var=pd.DataFrame(index=var_names))\n",
    "adata.obs.index.name, adata.var.index.name = \"cells\", \"genes\"\n",
    "adata"
   ]
  },
  {
   "cell_type": "code",
   "execution_count": null,
   "metadata": {},
   "outputs": [],
   "source": [
    "fc_neuron_annotation = pd.read_excel(\n",
    "    \"../download/Saunders-2018/annotation.BrainCellAtlas_Saunders_version_2018.04.01.xlsx\",\n",
    "    engine=\"openpyxl\"\n",
    ").query(\"tissue == 'FC' & `class` == 'NEURON'\")\n",
    "fc_neuron_annotation.head(n=2)"
   ]
  },
  {
   "cell_type": "markdown",
   "metadata": {},
   "source": [
    "# Process meta"
   ]
  },
  {
   "cell_type": "code",
   "execution_count": null,
   "metadata": {},
   "outputs": [],
   "source": [
    "subclusters = set(adata.obs[\"subcluster\"])\n",
    "subcluster_annotation_map = {\n",
    "    subcluster: common_name for subcluster, common_name in\n",
    "    zip(fc_neuron_annotation[\"subcluster\"], fc_neuron_annotation[\"common_name\"])\n",
    "    if subcluster in subclusters\n",
    "}"
   ]
  },
  {
   "cell_type": "code",
   "execution_count": null,
   "metadata": {
    "scrolled": true
   },
   "outputs": [],
   "source": [
    "broad_annotation_map = subcluster_annotation_map.copy()\n",
    "for key, val in broad_annotation_map.items():\n",
    "    if key.startswith(\"1-\"):\n",
    "        broad_annotation_map[key] = \"CGE\"\n",
    "    elif key.startswith(\"2-\"):\n",
    "        broad_annotation_map[key] = \"MGE\"\n",
    "    elif key.startswith(\"3-\"):\n",
    "        broad_annotation_map[key] = \"Layer6\"\n",
    "    elif key.startswith(\"4-\"):\n",
    "        broad_annotation_map[key] = \"Layer5b\"\n",
    "    elif key.startswith(\"5-\"):\n",
    "        broad_annotation_map[key] = \"Claustrum\"\n",
    "    elif key in (\"6-1\", \"6-2\"):\n",
    "        broad_annotation_map[key] = \"Layer2/3\"\n",
    "    elif key.startswith(\"6-\"):\n",
    "        broad_annotation_map[key] = \"Layer5a\"\n",
    "    elif key.startswith(\"7-\"):\n",
    "        broad_annotation_map[key] = \"Layer5\"\n",
    "    else:  # including 11-2\n",
    "        broad_annotation_map[key] = np.nan"
   ]
  },
  {
   "cell_type": "code",
   "execution_count": null,
   "metadata": {},
   "outputs": [],
   "source": [
    "adata.obs[\"cell_type\"] = [\n",
    "    broad_annotation_map[subcluster]\n",
    "    if subcluster in broad_annotation_map else np.nan\n",
    "    for subcluster in adata.obs[\"subcluster\"]\n",
    "]\n",
    "adata.obs[\"cell_subtype\"] = [\n",
    "    subcluster_annotation_map[subcluster]\n",
    "    if subcluster in subcluster_annotation_map else np.nan\n",
    "    for subcluster in adata.obs[\"subcluster\"]\n",
    "]\n",
    "adata.obs[\"domain\"] = \"scRNA-seq\"\n",
    "adata.obs[\"protocol\"] = \"Drop-seq\"\n",
    "adata.obs[\"dataset\"] = \"Saunders-2018\"\n",
    "adata.obs.head(n=2)"
   ]
  },
  {
   "cell_type": "code",
   "execution_count": null,
   "metadata": {},
   "outputs": [],
   "source": [
    "scglue.data.get_gene_annotation(\n",
    "    adata,\n",
    "    gtf=\"../genome/gencode.vM25.chr_patch_hapl_scaff.annotation.gtf.gz\",\n",
    "    gtf_by=\"gene_name\"\n",
    ")\n",
    "adata.var[\"genome\"] = \"mm10\"\n",
    "adata.var.head(n=2)"
   ]
  },
  {
   "cell_type": "markdown",
   "metadata": {},
   "source": [
    "# Clean data"
   ]
  },
  {
   "cell_type": "code",
   "execution_count": null,
   "metadata": {},
   "outputs": [],
   "source": [
    "retained_cells = adata.obs.dropna(subset=[\"cell_type\", \"cell_subtype\"]).index\n",
    "adata = adata[retained_cells, :]\n",
    "adata"
   ]
  },
  {
   "cell_type": "code",
   "execution_count": null,
   "metadata": {},
   "outputs": [],
   "source": [
    "retained_genes = adata.var.dropna(subset=[\"chrom\", \"chromStart\", \"chromEnd\"]).index\n",
    "adata = adata[:, retained_genes]\n",
    "adata.var = adata.var.astype({\"chromStart\": int, \"chromEnd\": int})\n",
    "adata"
   ]
  },
  {
   "cell_type": "code",
   "execution_count": null,
   "metadata": {},
   "outputs": [],
   "source": [
    "sc.pp.filter_genes(adata, min_counts=1)\n",
    "adata"
   ]
  },
  {
   "cell_type": "markdown",
   "metadata": {},
   "source": [
    "# Process data"
   ]
  },
  {
   "cell_type": "code",
   "execution_count": null,
   "metadata": {},
   "outputs": [],
   "source": [
    "sc.pp.highly_variable_genes(adata, n_top_genes=2000, flavor=\"seurat_v3\")\n",
    "adata.var.highly_variable.sum()"
   ]
  },
  {
   "cell_type": "markdown",
   "metadata": {},
   "source": [
    "# Save data"
   ]
  },
  {
   "cell_type": "code",
   "execution_count": null,
   "metadata": {},
   "outputs": [],
   "source": [
    "adata.write_h5ad(\"../dataset/Saunders-2018.h5ad\", compression=\"gzip\")"
   ]
  }
 ],
 "metadata": {
  "kernelspec": {
   "display_name": "Python 3",
   "language": "python",
   "name": "python3"
  },
  "language_info": {
   "codemirror_mode": {
    "name": "ipython",
    "version": 3
   },
   "file_extension": ".py",
   "mimetype": "text/x-python",
   "name": "python",
   "nbconvert_exporter": "python",
   "pygments_lexer": "ipython3",
   "version": "3.8.5"
  }
 },
 "nbformat": 4,
 "nbformat_minor": 4
}
