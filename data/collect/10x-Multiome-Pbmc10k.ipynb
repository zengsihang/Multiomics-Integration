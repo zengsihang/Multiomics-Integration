{
 "cells": [
  {
   "cell_type": "code",
   "execution_count": null,
   "metadata": {},
   "outputs": [],
   "source": [
    "import anndata\n",
    "import numpy as np\n",
    "import pandas as pd\n",
    "import networkx as nx\n",
    "import scanpy as sc\n",
    "import scipy.sparse\n",
    "from networkx.algorithms.bipartite import biadjacency_matrix\n",
    "\n",
    "import scglue"
   ]
  },
  {
   "cell_type": "markdown",
   "metadata": {},
   "source": [
    "# Read data"
   ]
  },
  {
   "cell_type": "code",
   "execution_count": null,
   "metadata": {},
   "outputs": [],
   "source": [
    "adata = sc.read_10x_h5(\"../download/10x-Multiome-Pbmc10k/pbmc_granulocyte_sorted_10k_filtered_feature_bc_matrix.h5\", gex_only=False)\n",
    "adata"
   ]
  },
  {
   "cell_type": "code",
   "execution_count": null,
   "metadata": {},
   "outputs": [],
   "source": [
    "rna = adata[:, adata.var[\"feature_types\"] == \"Gene Expression\"].copy()\n",
    "rna.obs.index.name, rna.var.index.name = \"cells\", \"genes\"\n",
    "rna"
   ]
  },
  {
   "cell_type": "code",
   "execution_count": null,
   "metadata": {},
   "outputs": [],
   "source": [
    "atac = adata[:, adata.var[\"feature_types\"] == \"Peaks\"].copy()\n",
    "atac.obs.index.name, atac.var.index.name = \"cells\", \"peaks\"\n",
    "atac"
   ]
  },
  {
   "cell_type": "code",
   "execution_count": null,
   "metadata": {},
   "outputs": [],
   "source": [
    "frags2rna = scglue.data.bedmap2anndata(\"../download/10x-Multiome-Pbmc10k/pbmc_granulocyte_sorted_10k_atac_fragments.bedmap.gz\")\n",
    "frags2rna.obs.index.name, frags2rna.var.index.name = \"cells\", \"genes\"\n",
    "frags2rna"
   ]
  },
  {
   "cell_type": "markdown",
   "metadata": {},
   "source": [
    "# Process meta"
   ]
  },
  {
   "cell_type": "code",
   "execution_count": null,
   "metadata": {},
   "outputs": [],
   "source": [
    "rna.obs[\"domain\"] = \"scRNA-seq\"\n",
    "rna.obs[\"protocol\"] = \"10x Multiome\"\n",
    "rna.obs[\"dataset\"] = \"10x-Multiome-Pbmc10k-RNA\""
   ]
  },
  {
   "cell_type": "code",
   "execution_count": null,
   "metadata": {},
   "outputs": [],
   "source": [
    "rna.var_names_make_unique()\n",
    "scglue.data.get_gene_annotation(\n",
    "    rna, var_by=\"gene_ids\",\n",
    "    gtf=\"../genome/gencode.v35.chr_patch_hapl_scaff.annotation.gtf.gz\",\n",
    "    gtf_by=\"gene_id\", by_func=scglue.genomics.ens_trim_version\n",
    ")\n",
    "rna.var.head()"
   ]
  },
  {
   "cell_type": "code",
   "execution_count": null,
   "metadata": {},
   "outputs": [],
   "source": [
    "atac.obs[\"domain\"] = \"scATAC-seq\"\n",
    "atac.obs[\"protocol\"] = \"10x Multiome\"\n",
    "atac.obs[\"dataset\"] = \"10x-Multiome-Pbmc10k-ATAC\""
   ]
  },
  {
   "cell_type": "code",
   "execution_count": null,
   "metadata": {},
   "outputs": [],
   "source": [
    "atac.var[\"chrom\"] = np.vectorize(lambda x: x.split(\":\")[0])(atac.var[\"gene_ids\"])\n",
    "atac.var[\"chromStart\"] = np.vectorize(lambda x: int(x.split(\":\")[1].split(\"-\")[0]))(atac.var[\"gene_ids\"])\n",
    "atac.var[\"chromEnd\"] = np.vectorize(lambda x: int(x.split(\"-\")[1]))(atac.var[\"gene_ids\"])\n",
    "del atac.var[\"gene_ids\"]\n",
    "atac.var.head()"
   ]
  },
  {
   "cell_type": "code",
   "execution_count": null,
   "metadata": {},
   "outputs": [],
   "source": [
    "frags2rna.obs[\"domain\"] = \"scATAC-seq\"\n",
    "frags2rna.obs[\"protocol\"] = \"10x Multiome\"\n",
    "frags2rna.obs[\"dataset\"] = \"10x-Multiome-Pbmc10k-FRAGS2RNA\""
   ]
  },
  {
   "cell_type": "markdown",
   "metadata": {},
   "source": [
    "# Pair samples & add cell types"
   ]
  },
  {
   "cell_type": "code",
   "execution_count": null,
   "metadata": {},
   "outputs": [],
   "source": [
    "meta = pd.read_csv(\"../download/10x-Multiome-Pbmc10k/wnn_meta_data.csv\", index_col=0)\n",
    "meta = meta.rename(columns={\"celltype\": \"cell_type\"})"
   ]
  },
  {
   "cell_type": "code",
   "execution_count": null,
   "metadata": {},
   "outputs": [],
   "source": [
    "rna.obs = rna.obs.join(meta)\n",
    "atac.obs = atac.obs.join(meta)\n",
    "frags2rna.obs = frags2rna.obs.join(meta)"
   ]
  },
  {
   "cell_type": "code",
   "execution_count": null,
   "metadata": {},
   "outputs": [],
   "source": [
    "rna = rna[meta.index, :]\n",
    "atac = atac[meta.index, :]\n",
    "frags2rna = frags2rna[meta.index, :]"
   ]
  },
  {
   "cell_type": "markdown",
   "metadata": {},
   "source": [
    "# Clean data"
   ]
  },
  {
   "cell_type": "markdown",
   "metadata": {},
   "source": [
    "## Remove doublets"
   ]
  },
  {
   "cell_type": "code",
   "execution_count": null,
   "metadata": {},
   "outputs": [],
   "source": [
    "doubletfinder = pd.read_csv(\"../download/10x-Multiome-Pbmc10k/doubletfinder_inference.csv\", index_col=0)\n",
    "doubletfinder = doubletfinder.loc[rna.obs_names, \"doubletfinder\"]\n",
    "mask = (doubletfinder == \"Singlet\").to_numpy()"
   ]
  },
  {
   "cell_type": "code",
   "execution_count": null,
   "metadata": {},
   "outputs": [],
   "source": [
    "rna = rna[mask, :]\n",
    "rna"
   ]
  },
  {
   "cell_type": "code",
   "execution_count": null,
   "metadata": {},
   "outputs": [],
   "source": [
    "atac = atac[mask, :]\n",
    "atac"
   ]
  },
  {
   "cell_type": "code",
   "execution_count": null,
   "metadata": {},
   "outputs": [],
   "source": [
    "frags2rna = frags2rna[mask, :]\n",
    "frags2rna"
   ]
  },
  {
   "cell_type": "markdown",
   "metadata": {},
   "source": [
    "## Filter features"
   ]
  },
  {
   "cell_type": "code",
   "execution_count": null,
   "metadata": {},
   "outputs": [],
   "source": [
    "retained_genes = rna.var.dropna(subset=[\"chrom\", \"chromStart\", \"chromEnd\"]).index\n",
    "rna = rna[:, retained_genes]\n",
    "rna.var = rna.var.astype({\"chromStart\": int, \"chromEnd\": int})\n",
    "rna"
   ]
  },
  {
   "cell_type": "code",
   "execution_count": null,
   "metadata": {},
   "outputs": [],
   "source": [
    "sc.pp.filter_genes(rna, min_counts=1)\n",
    "rna"
   ]
  },
  {
   "cell_type": "code",
   "execution_count": null,
   "metadata": {},
   "outputs": [],
   "source": [
    "blacklist_overlap = scglue.genomics.window_graph(\n",
    "    scglue.genomics.Bed(atac.var.assign(name=atac.var_names)),\n",
    "    \"../genome/Blacklist/lists/hg38-blacklist.v2.bed.gz\",\n",
    "    window_size=0\n",
    ")"
   ]
  },
  {
   "cell_type": "code",
   "execution_count": null,
   "metadata": {},
   "outputs": [],
   "source": [
    "retained_peaks = np.asarray(biadjacency_matrix(\n",
    "    blacklist_overlap, atac.var_names\n",
    ").sum(axis=1)).ravel() == 0\n",
    "atac = atac[:, retained_peaks]\n",
    "atac.var = atac.var.astype({\"chromStart\": int, \"chromEnd\": int})\n",
    "atac"
   ]
  },
  {
   "cell_type": "code",
   "execution_count": null,
   "metadata": {},
   "outputs": [],
   "source": [
    "sc.pp.filter_genes(atac, min_counts=1)\n",
    "atac"
   ]
  },
  {
   "cell_type": "code",
   "execution_count": null,
   "metadata": {},
   "outputs": [],
   "source": [
    "missing_vars = list(set(rna.var_names).difference(frags2rna.var_names))\n",
    "frags2rna = anndata.concat([\n",
    "    frags2rna, anndata.AnnData(\n",
    "        X=scipy.sparse.csr_matrix((frags2rna.shape[0], len(missing_vars))),\n",
    "        obs=pd.DataFrame(index=frags2rna.obs_names), var=pd.DataFrame(index=missing_vars)\n",
    "    )\n",
    "], axis=1, merge=\"first\")\n",
    "frags2rna = frags2rna[:, rna.var_names].copy()  # Keep the same features as RNA\n",
    "frags2rna"
   ]
  },
  {
   "cell_type": "markdown",
   "metadata": {},
   "source": [
    "# Process data"
   ]
  },
  {
   "cell_type": "code",
   "execution_count": null,
   "metadata": {},
   "outputs": [],
   "source": [
    "sc.pp.highly_variable_genes(rna, n_top_genes=2000, flavor=\"seurat_v3\")\n",
    "rna.var.highly_variable.sum()"
   ]
  },
  {
   "cell_type": "markdown",
   "metadata": {},
   "source": [
    "# Save data"
   ]
  },
  {
   "cell_type": "code",
   "execution_count": null,
   "metadata": {},
   "outputs": [],
   "source": [
    "rna.write_h5ad(\"../dataset/10x-Multiome-Pbmc10k-RNA.h5ad\", compression=\"gzip\")\n",
    "atac.write_h5ad(\"../dataset/10x-Multiome-Pbmc10k-ATAC.h5ad\", compression=\"gzip\")\n",
    "frags2rna.write_h5ad(\"../dataset/10x-Multiome-Pbmc10k-FRAGS2RNA.h5ad\", compression=\"gzip\")"
   ]
  }
 ],
 "metadata": {
  "kernelspec": {
   "display_name": "Python 3",
   "language": "python",
   "name": "python3"
  },
  "language_info": {
   "codemirror_mode": {
    "name": "ipython",
    "version": 3
   },
   "file_extension": ".py",
   "mimetype": "text/x-python",
   "name": "python",
   "nbconvert_exporter": "python",
   "pygments_lexer": "ipython3",
   "version": "3.8.5"
  }
 },
 "nbformat": 4,
 "nbformat_minor": 4
}
